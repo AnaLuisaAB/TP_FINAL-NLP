{
  "cells": [
    {
      "cell_type": "markdown",
      "metadata": {
        "id": "29ynkZKJ57h9"
      },
      "source": [
        "# **Trabalho Final da disciplina de Processamento de Linguagem Natural**\n",
        "### Ana Luísa Araújo Bastos - 2021031459\n",
        "\n",
        "### Considerações: devido a limitações do meu computador e ao limite imposto pelo Colab, o trabalho foi executado em um servidor e os dados gerados carregados aqui."
      ]
    },
    {
      "cell_type": "markdown",
      "source": [
        "# Predição de Interação entre Proteínas utilizando NLP"
      ],
      "metadata": {
        "id": "F0JH9kcs2TYv"
      }
    },
    {
      "cell_type": "markdown",
      "metadata": {
        "id": "3vOM30sF57iA"
      },
      "source": [
        "## Objetivo:\n",
        "O objetivo deste projeto é construir um modelo capaz de prever se duas proteínas irão interagir ou não com base em suas sequências. Esse tipo de predição é essencial para entender redes biológicas, interações celulares e o desenvolvimento de terapias."
      ]
    },
    {
      "cell_type": "markdown",
      "metadata": {
        "id": "rbV_1JgL57iA"
      },
      "source": [
        "## Preparando o ambiente"
      ]
    },
    {
      "cell_type": "code",
      "execution_count": 26,
      "metadata": {
        "colab": {
          "base_uri": "https://localhost:8080/"
        },
        "id": "DyfCAbt257iA",
        "outputId": "03c93690-23f7-47a0-d7d1-0b1105772400"
      },
      "outputs": [
        {
          "output_type": "stream",
          "name": "stdout",
          "text": [
            "Requirement already satisfied: transformers in /usr/local/lib/python3.11/dist-packages (4.48.2)\n",
            "Requirement already satisfied: datasets in /usr/local/lib/python3.11/dist-packages (3.2.0)\n",
            "Requirement already satisfied: evaluate in /usr/local/lib/python3.11/dist-packages (0.4.3)\n",
            "Requirement already satisfied: filelock in /usr/local/lib/python3.11/dist-packages (from transformers) (3.17.0)\n",
            "Requirement already satisfied: huggingface-hub<1.0,>=0.24.0 in /usr/local/lib/python3.11/dist-packages (from transformers) (0.27.1)\n",
            "Requirement already satisfied: numpy>=1.17 in /usr/local/lib/python3.11/dist-packages (from transformers) (1.26.4)\n",
            "Requirement already satisfied: packaging>=20.0 in /usr/local/lib/python3.11/dist-packages (from transformers) (24.2)\n",
            "Requirement already satisfied: pyyaml>=5.1 in /usr/local/lib/python3.11/dist-packages (from transformers) (6.0.2)\n",
            "Requirement already satisfied: regex!=2019.12.17 in /usr/local/lib/python3.11/dist-packages (from transformers) (2024.11.6)\n",
            "Requirement already satisfied: requests in /usr/local/lib/python3.11/dist-packages (from transformers) (2.32.3)\n",
            "Requirement already satisfied: tokenizers<0.22,>=0.21 in /usr/local/lib/python3.11/dist-packages (from transformers) (0.21.0)\n",
            "Requirement already satisfied: safetensors>=0.4.1 in /usr/local/lib/python3.11/dist-packages (from transformers) (0.5.2)\n",
            "Requirement already satisfied: tqdm>=4.27 in /usr/local/lib/python3.11/dist-packages (from transformers) (4.67.1)\n",
            "Requirement already satisfied: pyarrow>=15.0.0 in /usr/local/lib/python3.11/dist-packages (from datasets) (17.0.0)\n",
            "Requirement already satisfied: dill<0.3.9,>=0.3.0 in /usr/local/lib/python3.11/dist-packages (from datasets) (0.3.8)\n",
            "Requirement already satisfied: pandas in /usr/local/lib/python3.11/dist-packages (from datasets) (2.2.2)\n",
            "Requirement already satisfied: xxhash in /usr/local/lib/python3.11/dist-packages (from datasets) (3.5.0)\n",
            "Requirement already satisfied: multiprocess<0.70.17 in /usr/local/lib/python3.11/dist-packages (from datasets) (0.70.16)\n",
            "Requirement already satisfied: fsspec<=2024.9.0,>=2023.1.0 in /usr/local/lib/python3.11/dist-packages (from fsspec[http]<=2024.9.0,>=2023.1.0->datasets) (2024.9.0)\n",
            "Requirement already satisfied: aiohttp in /usr/local/lib/python3.11/dist-packages (from datasets) (3.11.11)\n",
            "Requirement already satisfied: aiohappyeyeballs>=2.3.0 in /usr/local/lib/python3.11/dist-packages (from aiohttp->datasets) (2.4.4)\n",
            "Requirement already satisfied: aiosignal>=1.1.2 in /usr/local/lib/python3.11/dist-packages (from aiohttp->datasets) (1.3.2)\n",
            "Requirement already satisfied: attrs>=17.3.0 in /usr/local/lib/python3.11/dist-packages (from aiohttp->datasets) (25.1.0)\n",
            "Requirement already satisfied: frozenlist>=1.1.1 in /usr/local/lib/python3.11/dist-packages (from aiohttp->datasets) (1.5.0)\n",
            "Requirement already satisfied: multidict<7.0,>=4.5 in /usr/local/lib/python3.11/dist-packages (from aiohttp->datasets) (6.1.0)\n",
            "Requirement already satisfied: propcache>=0.2.0 in /usr/local/lib/python3.11/dist-packages (from aiohttp->datasets) (0.2.1)\n",
            "Requirement already satisfied: yarl<2.0,>=1.17.0 in /usr/local/lib/python3.11/dist-packages (from aiohttp->datasets) (1.18.3)\n",
            "Requirement already satisfied: typing-extensions>=3.7.4.3 in /usr/local/lib/python3.11/dist-packages (from huggingface-hub<1.0,>=0.24.0->transformers) (4.12.2)\n",
            "Requirement already satisfied: charset-normalizer<4,>=2 in /usr/local/lib/python3.11/dist-packages (from requests->transformers) (3.4.1)\n",
            "Requirement already satisfied: idna<4,>=2.5 in /usr/local/lib/python3.11/dist-packages (from requests->transformers) (3.10)\n",
            "Requirement already satisfied: urllib3<3,>=1.21.1 in /usr/local/lib/python3.11/dist-packages (from requests->transformers) (2.3.0)\n",
            "Requirement already satisfied: certifi>=2017.4.17 in /usr/local/lib/python3.11/dist-packages (from requests->transformers) (2024.12.14)\n",
            "Requirement already satisfied: python-dateutil>=2.8.2 in /usr/local/lib/python3.11/dist-packages (from pandas->datasets) (2.8.2)\n",
            "Requirement already satisfied: pytz>=2020.1 in /usr/local/lib/python3.11/dist-packages (from pandas->datasets) (2024.2)\n",
            "Requirement already satisfied: tzdata>=2022.7 in /usr/local/lib/python3.11/dist-packages (from pandas->datasets) (2025.1)\n",
            "Requirement already satisfied: six>=1.5 in /usr/local/lib/python3.11/dist-packages (from python-dateutil>=2.8.2->pandas->datasets) (1.17.0)\n",
            "Requirement already satisfied: nltk in /usr/local/lib/python3.11/dist-packages (3.9.1)\n",
            "Collecting sklearn\n",
            "  Using cached sklearn-0.0.post12.tar.gz (2.6 kB)\n",
            "  \u001b[1;31merror\u001b[0m: \u001b[1msubprocess-exited-with-error\u001b[0m\n",
            "  \n",
            "  \u001b[31m×\u001b[0m \u001b[32mpython setup.py egg_info\u001b[0m did not run successfully.\n",
            "  \u001b[31m│\u001b[0m exit code: \u001b[1;36m1\u001b[0m\n",
            "  \u001b[31m╰─>\u001b[0m See above for output.\n",
            "  \n",
            "  \u001b[1;35mnote\u001b[0m: This error originates from a subprocess, and is likely not a problem with pip.\n",
            "  Preparing metadata (setup.py) ... \u001b[?25l\u001b[?25herror\n",
            "\u001b[1;31merror\u001b[0m: \u001b[1mmetadata-generation-failed\u001b[0m\n",
            "\n",
            "\u001b[31m×\u001b[0m Encountered error while generating package metadata.\n",
            "\u001b[31m╰─>\u001b[0m See above for output.\n",
            "\n",
            "\u001b[1;35mnote\u001b[0m: This is an issue with the package mentioned above, not pip.\n",
            "\u001b[1;36mhint\u001b[0m: See above for details.\n"
          ]
        }
      ],
      "source": [
        "# Instalação das bibliotecas necessárias\n",
        "!pip install --upgrade transformers datasets evaluate\n",
        "!pip install nltk sklearn pandas biopython seaborn matplotlib requests tqdm\n"
      ]
    },
    {
      "cell_type": "code",
      "execution_count": 31,
      "metadata": {
        "colab": {
          "base_uri": "https://localhost:8080/"
        },
        "id": "PenKuzLe57iC",
        "outputId": "8ab64330-efde-4667-d78b-0c0757b025ee"
      },
      "outputs": [
        {
          "output_type": "stream",
          "name": "stdout",
          "text": [
            "Requirement already satisfied: biopython in /usr/local/lib/python3.11/dist-packages (1.85)\n",
            "Requirement already satisfied: numpy in /usr/local/lib/python3.11/dist-packages (from biopython) (1.26.4)\n"
          ]
        }
      ],
      "source": [
        "# Importação das bibliotecas necessárias\n",
        "import torch\n",
        "import torch.optim as optim\n",
        "import torch.nn as nn\n",
        "from sklearn.preprocessing import LabelEncoder\n",
        "from transformers import AutoTokenizer, AutoModelForTokenClassification, pipeline, AutoModel\n",
        "from sklearn.model_selection import train_test_split\n",
        "from sklearn.ensemble import RandomForestClassifier\n",
        "from sklearn.metrics import classification_report, confusion_matrix, accuracy_score, precision_score, recall_score, f1_score\n",
        "import pandas as pd\n",
        "import tarfile\n",
        "import urllib.request\n",
        "import os\n",
        "from  collections import Counter\n",
        "from datasets import load_dataset\n",
        "import seaborn as sns\n",
        "import matplotlib.pyplot as plt\n",
        "import requests\n",
        "from tqdm import tqdm\n",
        "import gzip\n",
        "!pip install biopython\n",
        "import Bio\n",
        "from Bio import SeqIO\n",
        "import json\n",
        "import numpy as np\n",
        "import joblib\n",
        "from tqdm import tqdm\n",
        "import random\n",
        "import networkx as nx\n",
        "from PIL import Image\n",
        "\n"
      ]
    },
    {
      "cell_type": "markdown",
      "metadata": {
        "id": "AjAd74Unvtku"
      },
      "source": [
        "## Preparando os dados"
      ]
    },
    {
      "cell_type": "markdown",
      "metadata": {
        "id": "XGMQ1Xclx2ek"
      },
      "source": [
        "Os dados uilizados foram retirados do **STRING Database**.\n",
        "O STRING é uma base de dados amplamente utilizada, que contém informações sobre interações proteína-proteína (PPI) e fornece um formato que pode ser utilizado diretamente para treinamentos de modelos de aprendizado de máquina.\n",
        "\n",
        "Os arquivos foram baixados e disponibilizados no meu GitHub.\n",
        "Para esse trabalho, selecionei apenas dados com uma confiança acima de 40% e de proteínas humanas."
      ]
    },
    {
      "cell_type": "markdown",
      "metadata": {
        "id": "WhEyh2E9v9gL"
      },
      "source": [
        "### Download"
      ]
    },
    {
      "cell_type": "code",
      "execution_count": 28,
      "metadata": {
        "colab": {
          "base_uri": "https://localhost:8080/"
        },
        "id": "JSjgELQrwDXH",
        "outputId": "da4a4d8f-8107-4248-bbd0-6d7680a53de5"
      },
      "outputs": [
        {
          "output_type": "stream",
          "name": "stderr",
          "text": [
            "Downloading 9606.protein.links.v12.0.min400.onlyAB.txt.gz: 100%|██████████| 6.08M/6.08M [00:00<00:00, 37.2MB/s]\n",
            "Downloading 9606.protein.sequences.v12.0.fa.gz: 100%|██████████| 6.45M/6.45M [00:00<00:00, 15.8MB/s]\n"
          ]
        }
      ],
      "source": [
        "# Baixar os arquivos\n",
        "def download_file(url, output_path):\n",
        "    response = requests.get(url, stream=True)\n",
        "    total_size = int(response.headers.get('content-length', 0))\n",
        "    with open(output_path, 'wb') as file, tqdm(\n",
        "        desc=f\"Downloading {url.split('/')[-1]}\",\n",
        "        total=total_size,\n",
        "        unit='B',\n",
        "        unit_scale=True,\n",
        "        unit_divisor=1024,\n",
        "    ) as bar:\n",
        "        for data in response.iter_content(chunk_size=1024):\n",
        "            file.write(data)\n",
        "            bar.update(len(data))\n",
        "\n",
        "# Criar diretório para os dados\n",
        "os.makedirs(\"dados\", exist_ok=True)\n",
        "\n",
        "# URLs dos arquivos\n",
        "\n",
        "ppi_url =  \"https://github.com/AnaLuisaAB/TP_FINAL-NLP/raw/main/dados/9606.protein.links.v12.0.min400.onlyAB.txt.gz\"\n",
        "sequences_url =\"https://github.com/AnaLuisaAB/TP_FINAL-NLP/raw/main/dados/9606.protein.sequences.v12.0.fa.gz\"\n",
        "\n",
        "# Baixar os arquivos\n",
        "download_file(ppi_url, \"dados/ppi_data.txt.gz\")\n",
        "download_file(sequences_url, \"dados/sequences.fa.gz\")\n"
      ]
    },
    {
      "cell_type": "markdown",
      "metadata": {
        "id": "dcJ-5MZtwZ7V"
      },
      "source": [
        "### Pré-processamento\n",
        "\n",
        "\n"
      ]
    },
    {
      "cell_type": "markdown",
      "source": [
        "Primeiro extraí os arquivos e filtrei apenas interações com ```combined_score```acima de 500 para melhorar mais a confiança.\n",
        "Depois, para adquirir as sequências das proteínas envolvidas na interação, combinei o arquivo original do dataset com o arquivos FASTA das sequências.\n",
        "\n",
        "Além do citado acima, possíveis pares sem informação foram removidos e foi feita uma redução do dataset, já que o original tem bilhões de interações.\n",
        "\n",
        "Esse número variou experimentalmente e acabou em 75.000 amostras positivas (após gerar as negativas, ficaram 150.000 no total). Depois, para novos experimentos, mudei para 200.000 no total (100.000 positivas e 100.000 negativas)\n",
        "\n",
        "Além disso, foi gerado um conjunto de amostra com 2500 pares de sequências que não inclui s sequências utilizadas  (após gerar as negativas, ficaram 5000 no total).\n"
      ],
      "metadata": {
        "id": "nI3VUPRN3jMP"
      }
    },
    {
      "cell_type": "code",
      "execution_count": 29,
      "metadata": {
        "id": "efuy0ErR57iD"
      },
      "outputs": [],
      "source": [
        "# Função para carregar interações PPI\n",
        "def process_ppi(file_path, threshold = 500):\n",
        "    \"\"\"\n",
        "    Processa o arquivo de interações PPI e retorna os pares de proteínas com maior confiança.\n",
        "    :param file_path: Caminho para o arquivo PPI (links.detailed).\n",
        "    :param threshold: Pontuação mínima para considerar uma interação (default = 500).\n",
        "    \"\"\"\n",
        "    ppi_data = pd.read_csv(file_path, sep=\" \", compression='gzip')\n",
        "    ppi_data = ppi_data[ppi_data[\"combined_score\"] >= threshold]\n",
        "    return ppi_data[[\"protein1\", \"protein2\", \"combined_score\"]]\n",
        "\n",
        "# Função para carregar sequências de proteínas\n",
        "def process_sequences(file_path):\n",
        "    \"\"\"\n",
        "    Processa o arquivo de sequências FASTA e retorna um dicionário {protein_id: sequence}.\n",
        "    :param file_path: Caminho para o arquivo de sequências (sequences.fa).\n",
        "    \"\"\"\n",
        "    sequences = {}\n",
        "    with gzip.open(file_path, \"rt\") as f:\n",
        "        for record in SeqIO.parse(f, \"fasta\"):\n",
        "            sequences[record.id] = str(record.seq)\n",
        "    return sequences\n",
        "\n",
        "\n"
      ]
    },
    {
      "cell_type": "code",
      "execution_count": 22,
      "metadata": {
        "colab": {
          "base_uri": "https://localhost:8080/"
        },
        "id": "97UkEwziB4yo",
        "outputId": "aad68073-ded2-4a5a-9f93-15edf2adbd08"
      },
      "outputs": [
        {
          "output_type": "stream",
          "name": "stdout",
          "text": [
            "                    protein1              protein2  combined_score  \\\n",
            "906054  9606.ENSP00000451812  9606.ENSP00000483236             558   \n",
            "695634  9606.ENSP00000353741  9606.ENSP00000394496             518   \n",
            "58533   9606.ENSP00000219334  9606.ENSP00000262094             575   \n",
            "196183  9606.ENSP00000255266  9606.ENSP00000262340             813   \n",
            "616442  9606.ENSP00000336661  9606.ENSP00000344465             566   \n",
            "\n",
            "                                             Protein1_Seq  \\\n",
            "906054  MGWKMASPTDGTDLEASLLSFEKLDRASPDLWPEQLPGVAEFAASF...   \n",
            "695634  MADDPSAADRNVEIWKIKKLIKSLEAARGNGTSMISLIIPPKDQIS...   \n",
            "58533   MVLYTTPFPNSCLSALHCVSWALIFPCYWLVDRLAASFIPTTYEKR...   \n",
            "196183  MGEVTAEEVEKFLDSNIGFAKQYYNLHYRAKLISDLLGAKEAAVDF...   \n",
            "616442  MSSEQSAPGASPRAPRPGTQKSSGAVTKKGERAAKEKPATVLPPVG...   \n",
            "\n",
            "                                             Protein2_Seq  \n",
            "906054  MSLHGKRKEIYKYEAPWTVYAMNWSVRPDKRFRLALGSFVEEYNNK...  \n",
            "695634  MYGPGSQLGKSGNNSWAKERGCSIACQGSLTSARLHAPSIGERPLS...  \n",
            "58533   MTDGDYDYLIKLLALGDSGVGKTTFLYRYTDNKFNPKFITTVGIDF...  \n",
            "196183  MSIQVEHPAGGYKKLFETVEELSSPLTAHVTGRIPLWLTGSLLRCG...  \n",
            "616442  MSPPLCPLLLLAVGLRLAGTLNPSDPNTCSFWESFTTTTKESHSRP...  \n",
            "<class 'pandas.core.frame.DataFrame'>\n",
            "Index: 75000 entries, 906054 to 73946\n",
            "Data columns (total 5 columns):\n",
            " #   Column          Non-Null Count  Dtype \n",
            "---  ------          --------------  ----- \n",
            " 0   protein1        75000 non-null  object\n",
            " 1   protein2        75000 non-null  object\n",
            " 2   combined_score  75000 non-null  int64 \n",
            " 3   Protein1_Seq    75000 non-null  object\n",
            " 4   Protein2_Seq    75000 non-null  object\n",
            "dtypes: int64(1), object(4)\n",
            "memory usage: 3.4+ MB\n",
            "None\n",
            "       combined_score\n",
            "count    75000.000000\n",
            "mean       698.462040\n",
            "std        157.076284\n",
            "min        500.000000\n",
            "25%        560.000000\n",
            "50%        658.000000\n",
            "75%        826.000000\n",
            "max        999.000000\n"
          ]
        }
      ],
      "source": [
        "# Caminhos dos arquivos\n",
        "ppi_path = \"dados/ppi_data.txt.gz\"\n",
        "sequences_path = \"dados/sequences.fa.gz\"\n",
        "# Processar os arquivos\n",
        "ppi_data = process_ppi(ppi_path)\n",
        "sequences_dict = process_sequences(sequences_path)\n",
        "\n",
        "# Adicionar sequências às interações PPI\n",
        "ppi_data[\"Protein1_Seq\"] = ppi_data[\"protein1\"].map(sequences_dict)\n",
        "ppi_data[\"Protein2_Seq\"] = ppi_data[\"protein2\"].map(sequences_dict)\n",
        "\n",
        "# Remover pares sem sequências\n",
        "ppi_data = ppi_data.dropna()\n",
        "\n",
        "# Reduzir o dataset para 75.000 amostras aleatórias\n",
        "ppi_data_reduced = ppi_data.sample(n=75000, random_state=42)\n",
        "\n",
        "# Visualizar as primeiras linhas\n",
        "print(ppi_data_reduced.head())\n",
        "print(ppi_data_reduced.info())\n",
        "print(ppi_data_reduced.describe())\n",
        "\n",
        "# Gerar um dataset de amostra reduzido (2500 amostras) que não inclui as amostras usadas\n",
        "ppi_data_without_used = ppi_data.drop(ppi_data_reduced.index)\n",
        "ppi_data_sample = ppi_data_without_used.sample(n=2500, random_state=42)\n"
      ]
    },
    {
      "cell_type": "markdown",
      "metadata": {
        "id": "fRTUygRQLkbw"
      },
      "source": [
        "### Gerar amostras negativas\n",
        "Como o dataset só tem representações de proteínas que interagem, foi necessário gerar as amostras negativas. Para isso, enxerguei todas as proteínas como nós de um grafo que possui arestas entre as proteínas que interagem entre si. Dessa forma, basta gerar pares que não possuem arestas.\n"
      ]
    },
    {
      "cell_type": "markdown",
      "source": [
        "\n",
        "1.   Construção do Grafo: Usamos o dataset de interações para criar um grafo de interações.\n",
        "2.   Gerar Pares Negativos: Geramos pares de proteínas aleatórias que não estão conectadas no grafo.\n",
        "3.   Combinação de Exemplos: Combinamos as interações positivas (do dataset original) e as interações negativas (geradas a partir do grafo) para criar um dataset balanceado."
      ],
      "metadata": {
        "id": "gX5lRqwi5Gk9"
      }
    },
    {
      "cell_type": "code",
      "execution_count": 30,
      "metadata": {
        "colab": {
          "base_uri": "https://localhost:8080/"
        },
        "id": "bCib463zLo1Q",
        "outputId": "1f131f58-77bb-4dcf-9505-daf767837ff9"
      },
      "outputs": [
        {
          "output_type": "stream",
          "name": "stdout",
          "text": [
            "Número de nós (proteínas): 16027\n",
            "Número de arestas (interações): 75000\n"
          ]
        }
      ],
      "source": [
        "# Criar o grafo de interações usando a amostra reduzida\n",
        "G = nx.Graph()\n",
        "\n",
        "# Adicionar as interações como arestas no grafo\n",
        "for _, row in ppi_data_reduced.iterrows():\n",
        "    G.add_edge(row['protein1'], row['protein2'])\n",
        "\n",
        "# Verificar o número de nós e arestas no grafo\n",
        "print(f\"Número de nós (proteínas): {len(G.nodes())}\")\n",
        "print(f\"Número de arestas (interações): {len(G.edges())}\")"
      ]
    },
    {
      "cell_type": "code",
      "execution_count": 24,
      "metadata": {
        "id": "6Cz4JT7uLs8d"
      },
      "outputs": [],
      "source": [
        "proteins = list(G.nodes())\n",
        "num_negatives = len(ppi_data_reduced)  # O mesmo número de pares negativos que o número de pares positivos\n",
        "negative_pairs = []\n",
        "while len(negative_pairs) < num_negatives:\n",
        "    p1, p2 = random.sample(proteins, 2)  # Seleciona duas proteínas aleatórias\n",
        "\n",
        "    # Verificar se as duas proteínas não estão conectadas no grafo\n",
        "    if not G.has_edge(p1, p2):\n",
        "        negative_pairs.append((p1, p2))\n"
      ]
    },
    {
      "cell_type": "markdown",
      "metadata": {
        "id": "j3X5bQh2LwcR"
      },
      "source": [
        "### Combinar datasets\n",
        "Agora precisamos unir o dataset positivo (possui interação) que já tinhamos, com o negativo (não possui interação) que acabamos de criar.\n",
        "Além disso, o datasset postivo antes tinha valores de ```combined_score``` entre 500 e 1000, então passamos a utilizar apenas 1 para indicar interação e 0 caso contrário.\n",
        "\n"
      ]
    },
    {
      "cell_type": "code",
      "execution_count": 25,
      "metadata": {
        "colab": {
          "base_uri": "https://localhost:8080/"
        },
        "id": "oGbfcKP_Lz3J",
        "outputId": "313bf3df-8921-4172-ec77-1be9d432759a"
      },
      "outputs": [
        {
          "output_type": "stream",
          "name": "stdout",
          "text": [
            "Número de nós (proteínas): 3677\n",
            "Número de arestas (interações): 2500\n",
            "Dataset combinado com 5000 entradas.\n",
            "-------------NEGATIVE-------------\n",
            "               protein1              protein2  combined_score  \\\n",
            "0  9606.ENSP00000359765  9606.ENSP00000492893               0   \n",
            "1  9606.ENSP00000357459  9606.ENSP00000367123               0   \n",
            "2  9606.ENSP00000225916  9606.ENSP00000358423               0   \n",
            "3  9606.ENSP00000265970  9606.ENSP00000251775               0   \n",
            "4  9606.ENSP00000429084  9606.ENSP00000330393               0   \n",
            "\n",
            "                                        Protein1_Seq  \\\n",
            "0  MVSSGCRMRSLWFIIVISFLPNTEGFSRAALPFGLVRRELSCEGYS...   \n",
            "1  MNPRQGYSLSGYYTHPFQGYEHRQLRYQQPGPGSSPSSFLLKQIEF...   \n",
            "2  MAEPSQAPTPAPAAQPRPLQSPAPAPTPTPAPSPASAPIPTPTPAP...   \n",
            "3  MAQISSNSGFKECPSSHPEPTRAKDVDKEEALQMEAEALAKLQKDR...   \n",
            "4  MTSIHFVVHPLPGTEDQLNDRLREVSEKLNKYNLNSHPPLNVLEQA...   \n",
            "\n",
            "                                        Protein2_Seq  \n",
            "0  MVNLTSMSGFLLMGFSDERKLQILHALVFLVTYLLALTGNLLIITI...  \n",
            "1  MELQPPEASIAVVSIPRQLPGSHSEAGVQGLSAGDDSETGSDCVTQ...  \n",
            "2  MSQVLGKPQPQDEDDAEEEEEEDELVGLADYGDGPDSSDADPDSGT...  \n",
            "3  MEQAPPDPERQLQPAPLEPLGSPDAGLGAAVGKEAEGAGEESSGVD...  \n",
            "4  MICQKFCVVLLHWEFIYVITAFNLSYPITPWRFKLSCMPPNSTYDY...  \n",
            "\n",
            "-------------POSITIVE-------------\n",
            "                    protein1              protein2  combined_score  \\\n",
            "589515  9606.ENSP00000328923  9606.ENSP00000356280               1   \n",
            "854599  9606.ENSP00000384615  9606.ENSP00000452454               1   \n",
            "323639  9606.ENSP00000267017  9606.ENSP00000440185               1   \n",
            "870266  9606.ENSP00000395535  9606.ENSP00000426503               1   \n",
            "695357  9606.ENSP00000353731  9606.ENSP00000418915               1   \n",
            "\n",
            "                                             Protein1_Seq  \\\n",
            "589515  MAKFALNQNLPDLGGPRLCPVPAAGGARSPSSPYSVETPYGFHLDL...   \n",
            "854599  MCSTNPGKWVTFDDDPAVQSSQKSKNFPLENQGVCRPNGLKLNLPG...   \n",
            "323639  MDSRQAAALLVLLLLIDGGCAEGPGGQQEDQLSAEEDSEPLPPQDA...   \n",
            "870266  MAAAAAAAPSGGGGGGEEERLEEKSEDQDLQGLKDKPLKFKKVKKD...   \n",
            "695357  MKTPWKVLLGLLGAAALVTIITVPVVLLNKGTDDATADSRKTYTLT...   \n",
            "\n",
            "                                             Protein2_Seq  \n",
            "589515  MTAAATATVLKEGVLEKRSGGLLQLWKRKRCVLTERGLQLFEAKGT...  \n",
            "854599  MANSANTNTVPKLYRSVIEDVINDVRDIFLDDGVDEQVLMELKTLW...  \n",
            "323639  MAWQGLVLAACLLMFPSTTADCLSRCSLCAVKTQDGPKPINPLICS...  \n",
            "870266  MSTRKRRGGAINSRQAQKRTREATSTPEISLEAEPIELVETAGDEI...  \n",
            "695357  MEPAAGSSMEPSADWLATAAARGRVEEVRALLEAGALPNAPNSYGR...  \n",
            "\n",
            "-------------COMBINED-------------\n",
            "<class 'pandas.core.frame.DataFrame'>\n",
            "RangeIndex: 5000 entries, 0 to 4999\n",
            "Data columns (total 5 columns):\n",
            " #   Column          Non-Null Count  Dtype \n",
            "---  ------          --------------  ----- \n",
            " 0   protein1        5000 non-null   object\n",
            " 1   protein2        5000 non-null   object\n",
            " 2   combined_score  5000 non-null   int64 \n",
            " 3   Protein1_Seq    5000 non-null   object\n",
            " 4   Protein2_Seq    5000 non-null   object\n",
            "dtypes: int64(1), object(4)\n",
            "memory usage: 195.4+ KB\n",
            "None\n",
            "       combined_score\n",
            "count      5000.00000\n",
            "mean          0.50000\n",
            "std           0.50005\n",
            "min           0.00000\n",
            "25%           0.00000\n",
            "50%           0.50000\n",
            "75%           1.00000\n",
            "max           1.00000\n",
            "               protein1              protein2  combined_score  \\\n",
            "0  9606.ENSP00000328923  9606.ENSP00000356280               1   \n",
            "1  9606.ENSP00000384615  9606.ENSP00000452454               1   \n",
            "2  9606.ENSP00000267017  9606.ENSP00000440185               1   \n",
            "3  9606.ENSP00000395535  9606.ENSP00000426503               1   \n",
            "4  9606.ENSP00000353731  9606.ENSP00000418915               1   \n",
            "\n",
            "                                        Protein1_Seq  \\\n",
            "0  MAKFALNQNLPDLGGPRLCPVPAAGGARSPSSPYSVETPYGFHLDL...   \n",
            "1  MCSTNPGKWVTFDDDPAVQSSQKSKNFPLENQGVCRPNGLKLNLPG...   \n",
            "2  MDSRQAAALLVLLLLIDGGCAEGPGGQQEDQLSAEEDSEPLPPQDA...   \n",
            "3  MAAAAAAAPSGGGGGGEEERLEEKSEDQDLQGLKDKPLKFKKVKKD...   \n",
            "4  MKTPWKVLLGLLGAAALVTIITVPVVLLNKGTDDATADSRKTYTLT...   \n",
            "\n",
            "                                        Protein2_Seq  \n",
            "0  MTAAATATVLKEGVLEKRSGGLLQLWKRKRCVLTERGLQLFEAKGT...  \n",
            "1  MANSANTNTVPKLYRSVIEDVINDVRDIFLDDGVDEQVLMELKTLW...  \n",
            "2  MAWQGLVLAACLLMFPSTTADCLSRCSLCAVKTQDGPKPINPLICS...  \n",
            "3  MSTRKRRGGAINSRQAQKRTREATSTPEISLEAEPIELVETAGDEI...  \n",
            "4  MEPAAGSSMEPSADWLATAAARGRVEEVRALLEAGALPNAPNSYGR...  \n",
            "Número de nós (proteínas): 16027\n",
            "Número de arestas (interações): 75000\n",
            "Dataset combinado com 150000 entradas.\n",
            "-------------NEGATIVE-------------\n",
            "               protein1              protein2  combined_score  \\\n",
            "0  9606.ENSP00000303887  9606.ENSP00000329991               0   \n",
            "1  9606.ENSP00000399376  9606.ENSP00000378505               0   \n",
            "2  9606.ENSP00000350256  9606.ENSP00000268483               0   \n",
            "3  9606.ENSP00000387262  9606.ENSP00000324534               0   \n",
            "4  9606.ENSP00000496301  9606.ENSP00000358939               0   \n",
            "\n",
            "                                        Protein1_Seq  \\\n",
            "0  MASTRSIELEHFEERDKRPRPGSRRGAPSSSGGSSSSGPKGNGLIP...   \n",
            "1  MANLGCWMLVLFVATWSDLGLCKKRPKPGGWNTGGSRYPGQGSPGG...   \n",
            "2  MTPTDFTSPIPNMADDYGSESTSSMEDYVNFNFTDFYCEKNNVRQF...   \n",
            "3  MLRACQLSGVTAAAQSCLCGKFVLRPLRPCRRYSTSGSSGLTTGKI...   \n",
            "4  MAENWKNCFEEELICPICLHVFVEPVQLPCKHNFCRGCIGEAWAKD...   \n",
            "\n",
            "                                        Protein2_Seq  \n",
            "0  MAAAWTVVLVTLVLGLAVAGPVPTSKPTTTGKGCHIGRFKSLSPQE...  \n",
            "1  MPVLSARRRELADHAGSGRRSGPSPTARSGPHLSALRAQPARAAHL...  \n",
            "2  MSFLLPKLTSKKEVDQAIKSTAEKVLVLRFGRDEDPVCLQLDDILS...  \n",
            "3  MPNSTTVMEFLLMRFSDVWTLQILHSASFFMLYLVTLMGNILIVTV...  \n",
            "4  MVLDLDLFRVDKGGDPALIRETQEKRFKDPGLVDQLVKADSEWRRC...  \n",
            "\n",
            "-------------POSITIVE-------------\n",
            "                    protein1              protein2  combined_score  \\\n",
            "906054  9606.ENSP00000451812  9606.ENSP00000483236               1   \n",
            "695634  9606.ENSP00000353741  9606.ENSP00000394496               1   \n",
            "58533   9606.ENSP00000219334  9606.ENSP00000262094               1   \n",
            "196183  9606.ENSP00000255266  9606.ENSP00000262340               1   \n",
            "616442  9606.ENSP00000336661  9606.ENSP00000344465               1   \n",
            "\n",
            "                                             Protein1_Seq  \\\n",
            "906054  MGWKMASPTDGTDLEASLLSFEKLDRASPDLWPEQLPGVAEFAASF...   \n",
            "695634  MADDPSAADRNVEIWKIKKLIKSLEAARGNGTSMISLIIPPKDQIS...   \n",
            "58533   MVLYTTPFPNSCLSALHCVSWALIFPCYWLVDRLAASFIPTTYEKR...   \n",
            "196183  MGEVTAEEVEKFLDSNIGFAKQYYNLHYRAKLISDLLGAKEAAVDF...   \n",
            "616442  MSSEQSAPGASPRAPRPGTQKSSGAVTKKGERAAKEKPATVLPPVG...   \n",
            "\n",
            "                                             Protein2_Seq  \n",
            "906054  MSLHGKRKEIYKYEAPWTVYAMNWSVRPDKRFRLALGSFVEEYNNK...  \n",
            "695634  MYGPGSQLGKSGNNSWAKERGCSIACQGSLTSARLHAPSIGERPLS...  \n",
            "58533   MTDGDYDYLIKLLALGDSGVGKTTFLYRYTDNKFNPKFITTVGIDF...  \n",
            "196183  MSIQVEHPAGGYKKLFETVEELSSPLTAHVTGRIPLWLTGSLLRCG...  \n",
            "616442  MSPPLCPLLLLAVGLRLAGTLNPSDPNTCSFWESFTTTTKESHSRP...  \n",
            "\n",
            "-------------COMBINED-------------\n",
            "<class 'pandas.core.frame.DataFrame'>\n",
            "RangeIndex: 150000 entries, 0 to 149999\n",
            "Data columns (total 5 columns):\n",
            " #   Column          Non-Null Count   Dtype \n",
            "---  ------          --------------   ----- \n",
            " 0   protein1        150000 non-null  object\n",
            " 1   protein2        150000 non-null  object\n",
            " 2   combined_score  150000 non-null  int64 \n",
            " 3   Protein1_Seq    150000 non-null  object\n",
            " 4   Protein2_Seq    150000 non-null  object\n",
            "dtypes: int64(1), object(4)\n",
            "memory usage: 5.7+ MB\n",
            "None\n",
            "       combined_score\n",
            "count   150000.000000\n",
            "mean         0.500000\n",
            "std          0.500002\n",
            "min          0.000000\n",
            "25%          0.000000\n",
            "50%          0.500000\n",
            "75%          1.000000\n",
            "max          1.000000\n",
            "               protein1              protein2  combined_score  \\\n",
            "0  9606.ENSP00000451812  9606.ENSP00000483236               1   \n",
            "1  9606.ENSP00000353741  9606.ENSP00000394496               1   \n",
            "2  9606.ENSP00000219334  9606.ENSP00000262094               1   \n",
            "3  9606.ENSP00000255266  9606.ENSP00000262340               1   \n",
            "4  9606.ENSP00000336661  9606.ENSP00000344465               1   \n",
            "\n",
            "                                        Protein1_Seq  \\\n",
            "0  MGWKMASPTDGTDLEASLLSFEKLDRASPDLWPEQLPGVAEFAASF...   \n",
            "1  MADDPSAADRNVEIWKIKKLIKSLEAARGNGTSMISLIIPPKDQIS...   \n",
            "2  MVLYTTPFPNSCLSALHCVSWALIFPCYWLVDRLAASFIPTTYEKR...   \n",
            "3  MGEVTAEEVEKFLDSNIGFAKQYYNLHYRAKLISDLLGAKEAAVDF...   \n",
            "4  MSSEQSAPGASPRAPRPGTQKSSGAVTKKGERAAKEKPATVLPPVG...   \n",
            "\n",
            "                                        Protein2_Seq  \n",
            "0  MSLHGKRKEIYKYEAPWTVYAMNWSVRPDKRFRLALGSFVEEYNNK...  \n",
            "1  MYGPGSQLGKSGNNSWAKERGCSIACQGSLTSARLHAPSIGERPLS...  \n",
            "2  MTDGDYDYLIKLLALGDSGVGKTTFLYRYTDNKFNPKFITTVGIDF...  \n",
            "3  MSIQVEHPAGGYKKLFETVEELSSPLTAHVTGRIPLWLTGSLLRCG...  \n",
            "4  MSPPLCPLLLLAVGLRLAGTLNPSDPNTCSFWESFTTTTKESHSRP...  \n"
          ]
        }
      ],
      "source": [
        "def create_balanced_dataset(ppi_data_reduced, sequences_dict):\n",
        "    \"\"\"\n",
        "    Cria um dataset balanceado com pares positivos e negativos de interações proteína-proteína.\n",
        "\n",
        "    Parâmetros:\n",
        "    - ppi_data_reduced: DataFrame com as interações positivas (colunas: protein1, protein2, combined_score, Protein1_Seq, Protein2_Seq).\n",
        "    - sequences_dict: Dicionário com as sequências de proteínas (chave: protein_id, valor: sequência).\n",
        "\n",
        "    Retorna:\n",
        "    - combined_data: DataFrame balanceado com pares positivos e negativos.\n",
        "    \"\"\"\n",
        "    # Criar o grafo de interações usando a amostra reduzida\n",
        "    G = nx.Graph()\n",
        "\n",
        "    # Adicionar as interações como arestas no grafo\n",
        "    for _, row in ppi_data_reduced.iterrows():\n",
        "        G.add_edge(row['protein1'], row['protein2'])\n",
        "\n",
        "    # Verificar o número de nós e arestas no grafo\n",
        "    print(f\"Número de nós (proteínas): {len(G.nodes())}\")\n",
        "    print(f\"Número de arestas (interações): {len(G.edges())}\")\n",
        "\n",
        "    # Gerar pares negativos\n",
        "    proteins = list(G.nodes())\n",
        "    num_negatives = len(ppi_data_reduced)  # O mesmo número de pares negativos que o número de pares positivos\n",
        "    negative_pairs = []\n",
        "    while len(negative_pairs) < num_negatives:\n",
        "        p1, p2 = random.sample(proteins, 2)  # Seleciona duas proteínas aleatórias\n",
        "\n",
        "        # Verificar se as duas proteínas não estão conectadas no grafo\n",
        "        if not G.has_edge(p1, p2):\n",
        "            negative_pairs.append((p1, p2))\n",
        "\n",
        "    # Criar rótulos para os pares\n",
        "    negative_labels = np.zeros(len(negative_pairs))  # Todos os pares negativos não têm interação = 0\n",
        "\n",
        "    # Criar um dataframe para os exemplos negativos\n",
        "    negative_data = pd.DataFrame(negative_pairs, columns=['protein1', 'protein2'])\n",
        "    negative_data['combined_score'] = 0  # Pontuação irrelevante para exemplos negativos\n",
        "\n",
        "    # Adicionar as sequências de proteínas para os pares negativos\n",
        "    negative_data['Protein1_Seq'] = negative_data['protein1'].map(sequences_dict)\n",
        "    negative_data['Protein2_Seq'] = negative_data['protein2'].map(sequences_dict)\n",
        "\n",
        "    # Combinar os dados positivos e negativos\n",
        "    positive_data = ppi_data_reduced[['protein1', 'protein2', 'combined_score', 'Protein1_Seq', 'Protein2_Seq']]\n",
        "    positive_data['combined_score'] = 1  # Atribuir 1 para todos os pares com interação\n",
        "\n",
        "    combined_data = pd.concat([positive_data, negative_data[['protein1', 'protein2', 'combined_score', 'Protein1_Seq', 'Protein2_Seq']]], ignore_index=True)\n",
        "\n",
        "    # Exibir informações do dataset\n",
        "    print(f\"Dataset combinado com {len(combined_data)} entradas.\")\n",
        "    print(\"-------------NEGATIVE-------------\")\n",
        "    print(negative_data.head())\n",
        "    print(\"\\n-------------POSITIVE-------------\")\n",
        "    print(positive_data.head())\n",
        "    print(\"\\n-------------COMBINED-------------\")\n",
        "    print(combined_data.info())\n",
        "    print(combined_data.describe())\n",
        "    print(combined_data.head())\n",
        "\n",
        "\n",
        "    return combined_data\n",
        "\n",
        "# Balancear o dataset de amostra\n",
        "ppi_data_sample = create_balanced_dataset(ppi_data_sample, sequences_dict)\n",
        "\n",
        "# Gerar o dataset que será usado com balanceamento\n",
        "combined_data = create_balanced_dataset(ppi_data_reduced, sequences_dict)\n",
        "\n",
        "\n",
        "# Juntar a sequência dos pares de proteína\n",
        "combined_data[\"combined_sequence\"] = combined_data[\"Protein1_Seq\"] + combined_data[\"Protein2_Seq\"]\n",
        "ppi_data_sample[\"combined_sequence\"] = ppi_data_sample[\"Protein1_Seq\"] + combined_data[\"Protein2_Seq\"]\n",
        "\n",
        "# Salvar o dataset final (reaproveitamento quando não há mudança no número de amostras)\n",
        "combined_data.to_csv(\"dados/processed_ppi_data.csv\", index=False)\n",
        "\n",
        "# Salvar o dataset de amostra\n",
        "ppi_data_sample.to_csv(\"dados/processed_ppi_data_sample.csv\", index=False)"
      ]
    },
    {
      "cell_type": "markdown",
      "source": [
        "## Aplicação e Avaliação dos algoritmos"
      ],
      "metadata": {
        "id": "fOsaj59g79eA"
      }
    },
    {
      "cell_type": "markdown",
      "source": [
        "### Geração de embeddings"
      ],
      "metadata": {
        "id": "Zl-Kr60E8Ed0"
      }
    },
    {
      "cell_type": "markdown",
      "source": [
        "O primeiro passo foi escolher o modelo para gerar os embeddings. Inicialmente pensei no ProtBert, uma versão do Bert fine-tunado para sequências de proteínas, porém, após uma série de testes, descobri que ele estava gerando embeddings iguais, de modo que todas as classificações iam para uma classe, mas não consegui identificar o motivo, por isso, resolvi mudar o modelo.\n",
        "\n",
        "Optei pelo ESM-2 (Evolutionary Scale Modeling), que também é treinado para aminoácidos, na versão `esm2_t6_8M_UR50D` que é mais leve.\n",
        "\n",
        "Os embeddings foram gerados com tamanho máximo de 1024."
      ],
      "metadata": {
        "id": "OkKMVAFsPU7T"
      }
    },
    {
      "cell_type": "code",
      "source": [
        "# Configuração do modelo\n",
        "MODEL_NAME = \"facebook/esm2_t6_8M_UR50D\"\n",
        "device = torch.device(\"cuda\" if torch.cuda.is_available() else \"cpu\")\n",
        "tokenizer = AutoTokenizer.from_pretrained(MODEL_NAME)\n",
        "model = AutoModel.from_pretrained(MODEL_NAME).to(device)\n",
        "\n",
        "# Função para gerar embeddings\n",
        "def generate_embeddings(sequences, tokenizer, model, device, batch_size=256):\n",
        "    all_embeddings = []\n",
        "    for i in tqdm(range(0, len(sequences), batch_size), desc=\"Gerando embeddings\"):\n",
        "        batch = list(sequences[i : i + batch_size])\n",
        "        inputs = tokenizer(batch, return_tensors=\"pt\", padding=True, truncation=True, max_length=512).to(device)\n",
        "        with torch.no_grad():\n",
        "            outputs = model(**inputs).last_hidden_state.mean(dim=1)\n",
        "        all_embeddings.extend(outputs.cpu().numpy())\n",
        "    return np.vstack(all_embeddings)\n",
        "\n",
        "\n",
        "\n",
        "'''combined_data = pd.read_csv(\"dados/combined_data.csv\")''' # Descomentar em caso de reutilização\n",
        "\n",
        "# Gerar embeddings\n",
        "embeddings_path = \"dados/embeddings.npy\"\n",
        "labels_path = \"dados/labels.npy\"\n",
        "\n",
        "embeddings = generate_embeddings(combined_data[\"combined_sequence\"].values, tokenizer, model, device)\n",
        "labels = combined_data[\"combined_score\"].values\n",
        "\n",
        "np.save(embeddings_path, embeddings)\n",
        "np.save(labels_path, labels)"
      ],
      "metadata": {
        "colab": {
          "base_uri": "https://localhost:8080/",
          "height": 352,
          "referenced_widgets": [
            "fce8150012494831b690675c6b571266",
            "84548f8ff6aa4a5e926e98587558181a",
            "7685616cb1b54988a0bd90791f5a0899",
            "bd5ec8de7cf64f57a405345ca0c8e555",
            "c6eec95e7a154a4ab681e379884cd5b0",
            "d1f5d36946f34ed78d8d2223affebec2",
            "8be7841daaf8495d96f8145b504b96f3",
            "a4ab40a8e66b48f1adeb4ede28e15d2c",
            "e92849ec703d4fdaa9ef96ffab7c2082",
            "d565ae61b4304f9b9f60376b627964f0",
            "7c821ddec01847aaa6c5d796ac661c13",
            "4710e61bf62c486e8c4dab63af4d44e3",
            "c1fe04f566a147ffb1fc81c8f73daef4",
            "6d2932c45d104822ad739ae0ee91e524",
            "a7d691b850794b55aaa8f1931dca1d6c",
            "207b2764e9174cc8892b002f26515c97",
            "fe01d976213c458da0126d92ffdef475",
            "e659916e781342b0ad533659130dc024",
            "2b5db0de69ec4013a5dabfc2bba57ca1",
            "372690217072490995dd841123cd75de",
            "5def7c6aeae34d6f9b84b6752a2afff1",
            "7d9e07199981438c8508b02422b92706",
            "30926999008a4e33a3071b77a787fd70",
            "811d4e37d2eb4e869c2233170e3fc46d",
            "6e59000c24a44d349ea21bee67285c8a",
            "660acba0ea1546fb8436b3d8e37579ca",
            "1230869f3afb41b4bd57e210b412172b",
            "09ea9c7b9d8640edb567442e2f6106b3",
            "8264c7905c3b4e2db8011d207c0f0ec4",
            "8215024db96d44aeacc6bb15f135862c",
            "149e855f2068480d949e25e5c79300ed",
            "95d41daea0544261a3585fb3162c8653",
            "4e1d4a5a756944eb960e827c32d024ca",
            "a8d31f9f8dea405093fd84b691b781ff",
            "38d1499b0be242c3b4a78be9ead0f0b4",
            "bf231c519088406181935b7bade942b1",
            "fb6a83dc7c504e688422caa73942b58c",
            "eece5be9c01746de9eb14719a430ab2b",
            "a8cd9f2198024a52a77b4e7c13603086",
            "3b0dd636db534edd907ee48ace8a9686",
            "b00dfa694b964e8189a1627b4645f128",
            "7104675406b14f8a9de1a4ba2476c56f",
            "57967d94245b4db3a4fbf5aca93944e3",
            "c6c0b3e535164edcb35acd0822f09950",
            "42ff06916d114baa9951698356ce058b",
            "cc02e7b4e26e413dac4e01c60fff372c",
            "31bda04c988f421a9f2b33bbdbc99bdb",
            "53b30bb2cd1346ad840b6132bd7a8092",
            "68c42a9d885e414494fb9ea6c290a02d",
            "6f6b3adda659459a9f7a3fb1ebc93d07",
            "f09540d700324eab87e7171fc8f63322",
            "f8ee4deed02341e887f8da4b10212d17",
            "8f7706178d634dd4bad1e73988b6fdae",
            "5e0740ce1c1c4c06b1c6cbd45f28213d",
            "2ea2fd119aa04fdf932a9dd32869ad9a"
          ]
        },
        "id": "gDfBoSZJj78A",
        "outputId": "e04016cb-5782-4c99-9f13-8d6f9b0ad30c"
      },
      "execution_count": 9,
      "outputs": [
        {
          "output_type": "stream",
          "name": "stderr",
          "text": [
            "/usr/local/lib/python3.11/dist-packages/huggingface_hub/utils/_auth.py:94: UserWarning: \n",
            "The secret `HF_TOKEN` does not exist in your Colab secrets.\n",
            "To authenticate with the Hugging Face Hub, create a token in your settings tab (https://huggingface.co/settings/tokens), set it as secret in your Google Colab and restart your session.\n",
            "You will be able to reuse this secret in all of your notebooks.\n",
            "Please note that authentication is recommended but still optional to access public models or datasets.\n",
            "  warnings.warn(\n"
          ]
        },
        {
          "output_type": "display_data",
          "data": {
            "text/plain": [
              "tokenizer_config.json:   0%|          | 0.00/95.0 [00:00<?, ?B/s]"
            ],
            "application/vnd.jupyter.widget-view+json": {
              "version_major": 2,
              "version_minor": 0,
              "model_id": "fce8150012494831b690675c6b571266"
            }
          },
          "metadata": {}
        },
        {
          "output_type": "display_data",
          "data": {
            "text/plain": [
              "vocab.txt:   0%|          | 0.00/93.0 [00:00<?, ?B/s]"
            ],
            "application/vnd.jupyter.widget-view+json": {
              "version_major": 2,
              "version_minor": 0,
              "model_id": "4710e61bf62c486e8c4dab63af4d44e3"
            }
          },
          "metadata": {}
        },
        {
          "output_type": "display_data",
          "data": {
            "text/plain": [
              "special_tokens_map.json:   0%|          | 0.00/125 [00:00<?, ?B/s]"
            ],
            "application/vnd.jupyter.widget-view+json": {
              "version_major": 2,
              "version_minor": 0,
              "model_id": "30926999008a4e33a3071b77a787fd70"
            }
          },
          "metadata": {}
        },
        {
          "output_type": "display_data",
          "data": {
            "text/plain": [
              "config.json:   0%|          | 0.00/775 [00:00<?, ?B/s]"
            ],
            "application/vnd.jupyter.widget-view+json": {
              "version_major": 2,
              "version_minor": 0,
              "model_id": "a8d31f9f8dea405093fd84b691b781ff"
            }
          },
          "metadata": {}
        },
        {
          "output_type": "display_data",
          "data": {
            "text/plain": [
              "model.safetensors:   0%|          | 0.00/31.4M [00:00<?, ?B/s]"
            ],
            "application/vnd.jupyter.widget-view+json": {
              "version_major": 2,
              "version_minor": 0,
              "model_id": "42ff06916d114baa9951698356ce058b"
            }
          },
          "metadata": {}
        },
        {
          "output_type": "stream",
          "name": "stderr",
          "text": [
            "Some weights of EsmModel were not initialized from the model checkpoint at facebook/esm2_t6_8M_UR50D and are newly initialized: ['esm.pooler.dense.bias', 'esm.pooler.dense.weight']\n",
            "You should probably TRAIN this model on a down-stream task to be able to use it for predictions and inference.\n"
          ]
        },
        {
          "output_type": "execute_result",
          "data": {
            "text/plain": [
              "'# Gerar embeddings\\nembeddings_path = \"string_data/embeddings.npy\"\\nlabels_path = \"string_data/labels.npy\"\\n\\nembeddings = generate_embeddings(combined_data[\"combined_sequence\"].values, tokenizer, model, device)\\nlabels = combined_data[\"combined_score\"].values\\n\\nnp.save(embeddings_path, embeddings)\\nnp.save(labels_path, labels)'"
            ],
            "application/vnd.google.colaboratory.intrinsic+json": {
              "type": "string"
            }
          },
          "metadata": {},
          "execution_count": 9
        }
      ]
    },
    {
      "cell_type": "markdown",
      "source": [
        "### Classificação"
      ],
      "metadata": {
        "id": "u66bSmbjUV0a"
      }
    },
    {
      "cell_type": "markdown",
      "source": [
        "Para classificação testei duas opções, o Random Forest e uma simulação de LSTM com atenção."
      ],
      "metadata": {
        "id": "vWmBc8HKeDL4"
      }
    },
    {
      "cell_type": "markdown",
      "source": [
        "#### **Random Forest**"
      ],
      "metadata": {
        "id": "5oC9slGs0aO1"
      }
    },
    {
      "cell_type": "markdown",
      "source": [
        "Foram testados vários valores de estimadores, começando em 50 e subindo de 50 em 50 até 300, como não houve muita diferença de 250 para 300, decidir parar em 300."
      ],
      "metadata": {
        "id": "c-O0cDIJ0l-H"
      }
    },
    {
      "cell_type": "code",
      "source": [
        "# Divisão treino/teste\n",
        "X_train, X_test, y_train, y_test = train_test_split(embeddings, labels, test_size=0.2, random_state=42)\n",
        "\n",
        "# Definição dos parâmetros\n",
        "clf = RandomForestClassifier(n_estimators=300, random_state=42)\n",
        "clf.fit(X_train, y_train)\n",
        "joblib.dump(clf, 'dados/random_forest_model.pkl')\n",
        "\n",
        "# Avaliação do modelo\n",
        "y_pred = clf.predict(X_test)\n",
        "for i in range(len(y_pred)):\n",
        "    if y_pred[i] > 0.5:\n",
        "        y_pred[i] = 1\n",
        "    else:\n",
        "        y_pred[i] = 0\n",
        "\n",
        "np.save('dados/y_pred_test.npy', y_pred)\n",
        "\n",
        "# Relatório de classificação\n",
        "report = classification_report(y_test, y_pred, output_dict=True)\n",
        "pd.DataFrame(report).transpose().to_csv(\"dados/classification_report_RF.csv\")\n",
        "\n",
        "# Matriz de confusão\n",
        "cm = confusion_matrix(y_test, y_pred)\n",
        "sns.heatmap(cm, annot=True, fmt=\"d\", cmap=\"Blues\")\n",
        "plt.title(\"Matriz de Confusão\")\n",
        "plt.xlabel(\"Previsto\")\n",
        "plt.ylabel(\"Real\")\n",
        "plt.savefig(\"dados/confusion_matrix_RF.png\")\n",
        "plt.show()\n",
        "\n",
        "# Métricas\n",
        "metrics = {\n",
        "        'accuracy': accuracy_score(y_test, y_pred),\n",
        "        'precision': precision_score(y_test, y_pred, average='binary'),\n",
        "        'recall': recall_score(y_test, y_pred, average='binary'),\n",
        "        'f1_score': f1_score(y_test, y_pred, average='binary')\n",
        "    }\n",
        "with open('dados/metricsRF300.json', 'w') as f:\n",
        "    json.dump(metrics, f)\n",
        "    print(metrics)\n",
        "\n"
      ],
      "metadata": {
        "id": "ge6cysdmhEL3"
      },
      "execution_count": null,
      "outputs": []
    },
    {
      "cell_type": "markdown",
      "source": [
        "**Carregando resultados**"
      ],
      "metadata": {
        "id": "duh8G8EhkjER"
      }
    },
    {
      "cell_type": "code",
      "source": [
        "# Função para carregar e imprimir o relatório de classificação\n",
        "def load_and_print_classification_report(report_path, model_name):\n",
        "    print(f\"\\n=== Relatório de Classificação - {model_name} ===\")\n",
        "    report_df = pd.read_csv(report_path, index_col=0)\n",
        "    print(report_df)\n",
        "\n",
        "# Função para carregar e imprimir as métricas\n",
        "def load_and_print_metrics(metrics_path, model_name):\n",
        "    print(f\"\\n=== Métricas - {model_name} ===\")\n",
        "    with open(metrics_path, \"r\") as f:\n",
        "        metrics = json.load(f)\n",
        "    for key, value in metrics.items():\n",
        "        print(f\"{key}: {value:.4f}\")\n",
        "# Função para carregar e exibir uma imagem\n",
        "def load_and_display_image(image_path, title):\n",
        "    img = Image.open(image_path)\n",
        "    plt.figure(figsize=(6, 6))\n",
        "    plt.imshow(img)\n",
        "    plt.title(title)\n",
        "    plt.axis(\"off\")\n",
        "    plt.show()\n"
      ],
      "metadata": {
        "id": "iW7kIrokkoJU"
      },
      "execution_count": 33,
      "outputs": []
    },
    {
      "cell_type": "code",
      "source": [
        "# Caminhos dos arquivos\n",
        "report_rf_path = \"dados/classification_report_RF1.csv\"\n",
        "metrics_rf_path = \"dados/metricsRF1.json\"\n",
        "#confusion_matrix_rf_path = \"string_data/confusion_matrix_RF1.png\"\n",
        "\n",
        "# Carregar e imprimir os relatórios e métricas do Random Forest\n",
        "load_and_print_classification_report(report_rf_path, \"Random Forest\")\n",
        "load_and_print_metrics(metrics_rf_path, \"Random Forest\")\n",
        "#load_and_display_image(confusion_matrix_rf_path, \"Matriz de Confusão - Random Forest\")"
      ],
      "metadata": {
        "colab": {
          "base_uri": "https://localhost:8080/"
        },
        "id": "Gn5C90zi6-cN",
        "outputId": "5d70139d-af72-4640-f673-5c461a086131"
      },
      "execution_count": 34,
      "outputs": [
        {
          "output_type": "stream",
          "name": "stdout",
          "text": [
            "\n",
            "=== Relatório de Classificação - Random Forest ===\n",
            "              precision    recall  f1-score       support\n",
            "0.0            0.695572  0.730168  0.712451  15039.000000\n",
            "1.0            0.714487  0.678765  0.696168  14961.000000\n",
            "accuracy       0.704533  0.704533  0.704533      0.704533\n",
            "macro avg      0.705030  0.704467  0.704309  30000.000000\n",
            "weighted avg   0.705005  0.704533  0.704330  30000.000000\n",
            "\n",
            "=== Métricas - Random Forest ===\n",
            "accuracy: 0.7045\n",
            "precision: 0.7145\n",
            "recall: 0.6788\n",
            "f1_score: 0.6962\n"
          ]
        }
      ]
    },
    {
      "cell_type": "markdown",
      "source": [
        "#### **LSTM com atenção**"
      ],
      "metadata": {
        "id": "uB7WoNUy1xpn"
      }
    },
    {
      "cell_type": "markdown",
      "source": [
        "Assim como para o Random Forest, também testei várias combinações de hiperparâmetros.\n",
        "\n",
        "Batch size: 64, 128, 256\n",
        "\n",
        "Número de camadas: 2, 3\n",
        "\n",
        "Dimensão da camada oculta: 128, 256, 512\n",
        "\n",
        "Número de épocas: 20, 50, 100"
      ],
      "metadata": {
        "id": "GI1w0kcjSZis"
      }
    },
    {
      "cell_type": "markdown",
      "source": [
        "Para os parâmetros testados, o melhor resultado foi para batch_size = 128, num_layers = 2, hidden_dim = 512 e num_epochs = 50 (o early stopping estava parando antes de chegar às 50)."
      ],
      "metadata": {
        "id": "18rA4twBT2AS"
      }
    },
    {
      "cell_type": "code",
      "source": [
        "# Carregar embeddings e labels\n",
        "embeddings = np.load(\"dados/embeddings.npy\")\n",
        "labels = np.load(\"dados/labels.npy\")\n",
        "\n",
        "# Divisão treino/teste\n",
        "X_train, X_test, y_train, y_test = train_test_split(embeddings, labels, test_size=0.2, random_state=42)\n",
        "\n",
        "# Redimensionar os dados para o formato esperado pela LSTM (batch_size, sequence_length, input_dim)\n",
        "X_train = X_train.reshape((X_train.shape[0], 1, X_train.shape[1]))  # (batch_size, 1, input_dim)\n",
        "X_test = X_test.reshape((X_test.shape[0], 1, X_test.shape[1]))      # (batch_size, 1, input_dim)\n",
        "\n",
        "# Converter para tensores do PyTorch\n",
        "X_train = torch.tensor(X_train, dtype=torch.float32)\n",
        "X_test = torch.tensor(X_test, dtype=torch.float32)\n",
        "y_train = torch.tensor(y_train, dtype=torch.float32)\n",
        "y_test = torch.tensor(y_test, dtype=torch.float32)\n",
        "\n",
        "# Definir o modelo LSTM com Atenção Aprimorado\n",
        "class LSTMAttention(nn.Module):\n",
        "    def __init__(self, input_dim, hidden_dim, output_dim):\n",
        "        super(LSTMAttention, self).__init__()\n",
        "        self.lstm = nn.LSTM(input_dim, hidden_dim, batch_first=True, bidirectional=True, num_layers=2)\n",
        "        self.attention = nn.Linear(hidden_dim * 2, 1)\n",
        "        self.fc1 = nn.Linear(hidden_dim * 2, hidden_dim)\n",
        "        self.fc2 = nn.Linear(hidden_dim, ou.tput_dim)\n",
        "        self.dropout = nn.Dropout(0.5)\n",
        "        self.sigmoid = nn.Sigmoid()\n",
        "\n",
        "    def forward(self, x):\n",
        "        lstm_out, _ = self.lstm(x)\n",
        "        attention_weights = torch.softmax(self.attention(lstm_out), dim=1)\n",
        "        weighted_out = torch.sum(lstm_out * attention_weights, dim=1)\n",
        "        x = torch.relu(self.fc1(weighted_out))\n",
        "        x = self.dropout(x)\n",
        "        x = self.fc2(x)\n",
        "        return self.sigmoid(x)\n",
        "\n",
        "# Configuração do modelo\n",
        "input_dim = X_train.shape[2]  # Dimensão de entrada (tamanho do embedding)\n",
        "hidden_dim = 512              # Dimensão oculta\n",
        "output_dim = 1                # Saída binária (interação ou não)\n",
        "model = LSTMAttention(input_dim, hidden_dim, output_dim)\n",
        "\n",
        "\n",
        "# Otimizador com scheduler de taxa de aprendizado\n",
        "optimizer = optim.Adam(model.parameters(), lr=0.001)\n",
        "scheduler = optim.lr_scheduler.StepLR(optimizer, step_size=5, gamma=0.1)\n",
        "\n",
        "# Treinamento do modelo\n",
        "num_epochs = 10\n",
        "batch_size = 128\n",
        "best_val_loss = float('inf')\n",
        "patience = 0\n",
        "\n",
        "for epoch in range(num_epochs):\n",
        "    model.train()\n",
        "    for i in range(0, len(X_train), batch_size):\n",
        "        inputs = X_train[i:i+batch_size]\n",
        "        targets = y_train[i:i+batch_size]\n",
        "\n",
        "        optimizer.zero_grad()\n",
        "        outputs = model(inputs)\n",
        "        loss = criterion(outputs.squeeze(), targets)\n",
        "        loss.backward()\n",
        "        optimizer.step()\n",
        "\n",
        "    print(f\"Epoch {epoch+1}/{num_epochs}, Loss: {loss.item()}\")\n",
        "\n",
        "    # Avaliação no conjunto de validação\n",
        "    model.eval()\n",
        "    with torch.no_grad():\n",
        "        y_pred_probs = model(X_test).squeeze().numpy()\n",
        "        y_pred = (y_pred_probs > 0.5).astype(int)\n",
        "        val_loss = criterion(torch.tensor(y_pred_probs), y_test).item()\n",
        "\n",
        "    print(classification_report(y_test.numpy(), y_pred))\n",
        "    print(\"Acurácia:\", accuracy_score(y_test.numpy(), y_pred))\n",
        "\n",
        "    # Early Stopping\n",
        "    if val_loss < best_val_loss:\n",
        "        best_val_loss = val_loss\n",
        "        patience = 0\n",
        "    else:\n",
        "        patience += 1\n",
        "        if patience >= 5:  # Parar após 5 épocas sem melhoria\n",
        "            print(\"Early stopping\")\n",
        "            break\n",
        "\n",
        "    scheduler.step()  # Atualizar a taxa de aprendizado\n",
        "\n",
        "torch.save(model.state_dict(), \"dados/lstm_attention_model.pth\")\n",
        "report = classification_report(y_test, y_pred, output_dict=True)\n",
        "pd.DataFrame(report).transpose().to_csv(\"dados/classification_report_lstm_attention.csv\")\n",
        "\n",
        "# Matriz de confusão\n",
        "cm = confusion_matrix(y_test, y_pred)\n",
        "sns.heatmap(cm, annot=True, fmt=\"d\", cmap=\"Blues\")\n",
        "plt.title(\"Matriz de Confusão (LSTM com Atenção)\")\n",
        "plt.xlabel(\"Previsto\")\n",
        "plt.ylabel(\"Real\")\n",
        "plt.savefig(\"dados/confusion_matrix_lstm_attention.png\")\n",
        "plt.show()\n",
        "\n",
        "# Métricas\n",
        "metrics = {\n",
        "    'accuracy': accuracy_score(y_test, y_pred),\n",
        "    'precision': precision_score(y_test, y_pred, average='binary'),\n",
        "    'recall': recall_score(y_test, y_pred, average='binary'),\n",
        "    'f1_score': f1_score(y_test, y_pred, average='binary')\n",
        "}\n",
        "with open('dados/metrics_lstm_attention.json', 'w') as f:\n",
        "    json.dump(metrics, f)\n",
        "    print(metrics)"
      ],
      "metadata": {
        "id": "UIIlMDN6hBki"
      },
      "execution_count": null,
      "outputs": []
    },
    {
      "cell_type": "code",
      "source": [
        "# Caminhos dos arquivos\n",
        "report_lstm_path = \"dados/classification_report_lstm_attention1.csv\"\n",
        "metrics_lstm_path = \"dados/metrics_lstm_attention1.json\"\n",
        "#confusion_matrix_lstm_path = \"string_data/confusion_matrix_lstm_attention1.png\"\n",
        "\n",
        "# Carregar e imprimir os relatórios e métricas do Random Forest\n",
        "load_and_print_classification_report(report_lstm_path, \"LSTM com Atenção\")\n",
        "load_and_print_metrics(metrics_lstm_path, \"LSTM com Atenção\")\n",
        "#load_and_display_image(confusion_matrix_lstm_path, \"Matriz de Confusão - LSTM com Atenção\")"
      ],
      "metadata": {
        "colab": {
          "base_uri": "https://localhost:8080/"
        },
        "id": "aIq3yNs06fbA",
        "outputId": "4f85dc47-f147-4540-dd06-8665cfe07034"
      },
      "execution_count": 35,
      "outputs": [
        {
          "output_type": "stream",
          "name": "stdout",
          "text": [
            "\n",
            "=== Relatório de Classificação - LSTM com Atenção ===\n",
            "              precision  recall  f1-score  support\n",
            "class                                             \n",
            "0.0                0.68    0.75      0.71    15039\n",
            "1.0                0.72    0.65      0.68    14961\n",
            "accuracy           0.70    0.70      0.70    30000\n",
            "macro avg          0.70    0.70      0.70    30000\n",
            "weighted avg       0.70    0.70      0.70    30000\n",
            "\n",
            "=== Métricas - LSTM com Atenção ===\n",
            "accuracy: 0.7000\n",
            "precision: 0.7212\n",
            "recall: 0.6495\n",
            "f1_score: 0.6835\n"
          ]
        }
      ]
    },
    {
      "cell_type": "markdown",
      "source": [
        "### Aumentando tamanho dos embeddings\n",
        "\n",
        "Como não estava satisfeita com os aproximadamente 70% de acurácia e precisão, resolvi testar gerar os embeddings com um tamanho maior (1024), também aumentei o tamanho dos dados para 200.000 e o tamanho da camada oculta permaneceu em 512 e batch_size em 128.\n",
        "\n"
      ],
      "metadata": {
        "id": "XaWyx5D5WNxV"
      }
    },
    {
      "cell_type": "markdown",
      "source": [
        "#### **Random Forest**"
      ],
      "metadata": {
        "id": "vAjkMbLPwwAr"
      }
    },
    {
      "cell_type": "code",
      "source": [
        "# Caminhos dos arquivos\n",
        "report_rf_path = \"dados/classification_report_RF2.csv\"\n",
        "metrics_rf_path = \"dados/metricsRF2.json\"\n",
        "#confusion_matrix_rf_path = \"string_data/confusion_matrix_RF2.png\"\n",
        "\n",
        "# Carregar e imprimir os relatórios e métricas do Random Forest\n",
        "load_and_print_classification_report(report_rf_path, \"Random Forest\")\n",
        "load_and_print_metrics(metrics_rf_path, \"Random Forest\")\n",
        "#load_and_display_image(confusion_matrix_rf_path, \"Matriz de Confusão - Random Forest\")"
      ],
      "metadata": {
        "colab": {
          "base_uri": "https://localhost:8080/"
        },
        "outputId": "ad70392e-edbe-4ace-8af2-d151c0468fff",
        "id": "HlePFN5VJV6n"
      },
      "execution_count": 37,
      "outputs": [
        {
          "output_type": "stream",
          "name": "stdout",
          "text": [
            "\n",
            "=== Relatório de Classificação - Random Forest ===\n",
            "              precision    recall  f1-score       support\n",
            "0              0.721053  0.756985  0.738582  20007.000000\n",
            "1              0.744051  0.706947  0.725025  19993.000000\n",
            "accuracy       0.731975  0.731975  0.731975      0.731975\n",
            "macro avg      0.732552  0.731966  0.731804  40000.000000\n",
            "weighted avg   0.732548  0.731975  0.731806  40000.000000\n",
            "\n",
            "=== Métricas - Random Forest ===\n",
            "accuracy: 0.7320\n",
            "precision: 0.7441\n",
            "recall: 0.7069\n",
            "f1_score: 0.7250\n"
          ]
        }
      ]
    },
    {
      "cell_type": "markdown",
      "source": [
        "O Random Forest apresentou uma melhoria  em relação aos resultados anteriores, principalmente na precisão.\n",
        "\n",
        "A precisão e o recall estão equilibrados, indicando que o modelo está performando bem tanto para a classe positiva (interação) quanto para a classe negativa (não interação).\n",
        "\n",
        "O F1-Score de 72.50% reforça que o modelo está generalizando bem para ambas as classes."
      ],
      "metadata": {
        "id": "4EIIa-5e3y58"
      }
    },
    {
      "cell_type": "markdown",
      "source": [
        "#### **LSTM**"
      ],
      "metadata": {
        "id": "oJhmX_k7wz5l"
      }
    },
    {
      "cell_type": "markdown",
      "source": [
        "A acurácia aumentou gradualmente ao longo das épocas, partindo de 59.57% na primeira época e estabilizando em torno de 67.02% a partir da 10ª época, o que é menor do que a obtida anteriormente. No entando, a precisão aumentou.\n",
        "\n",
        "A precisão para a classe positiva (interação) é 77.80%, o que significa que, quando o modelo prevê uma interação, ele está frequentemente correto.\n",
        "\n",
        "No entanto, o recall para a classe positiva é baixo (47.58%), indicando que o modelo está falhando em identificar muitas interações reais (falsos negativos).  Consequentemente, o F1-score também diminuiu.\n",
        "\n",
        "Por conta dessa piora na acurácia e no recall, decidi não continuar nessa abordagem."
      ],
      "metadata": {
        "id": "5yWaGulD36FE"
      }
    },
    {
      "cell_type": "code",
      "source": [
        "# Caminhos dos arquivos\n",
        "report_lstm_path = \"dados/classification_report_lstm_attention2.csv\"\n",
        "metrics_lstm_path = \"dados/metrics_lstm_attention2.json\"\n",
        "#confusion_matrix_lstm_path = \"string_data/confusion_matrix_lstm_attention2.png\"\n",
        "\n",
        "# Carregar e imprimir os relatórios e métricas do Random Forest\n",
        "load_and_print_classification_report(report_lstm_path, \"LSTM com Atenção\")\n",
        "load_and_print_metrics(metrics_lstm_path, \"LSTM com Atenção\")\n",
        "#load_and_display_image(confusion_matrix_lstm_path, \"Matriz de Confusão - LSTM com Atenção\")"
      ],
      "metadata": {
        "colab": {
          "base_uri": "https://localhost:8080/"
        },
        "outputId": "5e6246a8-955e-4edd-ecdf-cf7909def7e9",
        "id": "ySVa2rcQJNtD"
      },
      "execution_count": 36,
      "outputs": [
        {
          "output_type": "stream",
          "name": "stdout",
          "text": [
            "\n",
            "=== Relatório de Classificação - LSTM com Atenção ===\n",
            "              precision    recall  f1-score      support\n",
            "0.0            0.622655  0.864347  0.723859  20007.00000\n",
            "1.0            0.778032  0.475817  0.590503  19993.00000\n",
            "accuracy       0.670150  0.670150  0.670150      0.67015\n",
            "macro avg      0.700344  0.670082  0.657181  40000.00000\n",
            "weighted avg   0.700316  0.670150  0.657204  40000.00000\n",
            "\n",
            "=== Métricas - LSTM com Atenção ===\n",
            "accuracy: 0.6702\n",
            "precision: 0.7780\n",
            "recall: 0.4758\n",
            "f1_score: 0.5905\n"
          ]
        }
      ]
    },
    {
      "cell_type": "markdown",
      "source": [
        "##### **OBS:** Por falta de atenção, sobrescrevi as matrizes de confusão e acabei perdendo as imagens"
      ],
      "metadata": {
        "id": "bTzgPde-L3xv"
      }
    },
    {
      "cell_type": "markdown",
      "metadata": {
        "id": "_BEnLSiJoPuL"
      },
      "source": [
        "## Discussão dos Resultados"
      ]
    },
    {
      "cell_type": "markdown",
      "source": [
        "**Desempenho dos Modelos**\n",
        "\n",
        "Os modelos testados para prever interações proteína-proteína (PPI) apresentaram os seguintes resultados:\n",
        "\n",
        "Random Forest obteve 73% de melhor acurácia.\n",
        "LSTM alcançou 70% de acurácia após 50 épocas.\n",
        "\n",
        "Ambos os modelos apresentam desempenho acima do acaso (50%), mas não ultrapassam em muito 70% de precisão e acurácia, indicando que ainda há espaço para melhorias.\n",
        "\n",
        "Vários fatores podem ter contribuído para essa performance moderada:\n",
        "\n",
        "* **Complexidade do Problema:** A predição de interações proteína-proteína (PPI) é um problema complexo e altamente dependente de características biológicas que podem não ser completamente capturadas apenas pelas sequências de aminoácidos. Apesar de os embeddings gerados pelo ESM-2 serem informativos, eles podem não ser suficientes para capturar todas as nuances das interações proteicas.\n",
        "\n",
        "* **Tamanho do Embedding:** O uso de embeddings de tamanho 512 pode não ser suficiente para capturar toda a complexidade das sequências de proteínas. Embora o ESM-2 seja um modelo poderoso, a redução do tamanho do embedding pode ter limitado a capacidade do modelo de representar adequadamente as sequências.\n",
        "\n",
        "* **Hiperparâmetros dos Modelos:** Apesar de terem sido testados vários hiperparâmetros, é possível que os modelos não tenham sido totalmente otimizados. No caso do Random Forest, o número de estimadores foi aumentado até 300, mas outros parâmetros como a profundidade das árvores ou o critério de divisão poderiam ser ajustados. Para a LSTM, embora tenham sido testadas várias combinações de hiperparâmetros, a arquitetura pode não ser a mais adequada para capturar dependências de longo prazo nas sequências de proteínas."
      ],
      "metadata": {
        "id": "gbeQ2vC7cLMP"
      }
    },
    {
      "cell_type": "markdown",
      "source": [
        "## Perspectivas Futuras"
      ],
      "metadata": {
        "id": "VbTjLEAgSMAa"
      }
    },
    {
      "cell_type": "markdown",
      "source": [
        "Para melhorar a performance dos modelos, várias abordagens podem ser consideradas:\n",
        "\n",
        "* **Uso de Transformers para Classificação:** Em vez de usar embeddings pré-treinados e modelos clássicos como Random Forest ou LSTM, uma abordagem promissora seria utilizar modelos baseados em Transformers diretamente para a tarefa de classificação. Esses modelos podem ser fine-tunados para a tarefa específica de predição de interações proteína-proteína, o que pode melhorar a capacidade de capturar relações complexas entre as sequências de proteínas.\n",
        "* **Incorporação de Informações Adicionais:** Além das sequências de aminoácidos, a inclusão de informações adicionais, como estruturas tridimensionais das proteínas, domínios funcionais, ou dados de expressão gênica, pode enriquecer o modelo e melhorar a predição de interações.\n",
        "\n"
      ],
      "metadata": {
        "id": "ek-nlChqeO6M"
      }
    }
  ],
  "metadata": {
    "colab": {
      "gpuType": "T4",
      "provenance": []
    },
    "kernelspec": {
      "display_name": "Python 3",
      "name": "python3"
    },
    "language_info": {
      "codemirror_mode": {
        "name": "ipython",
        "version": 3
      },
      "file_extension": ".py",
      "mimetype": "text/x-python",
      "name": "python",
      "nbconvert_exporter": "python",
      "pygments_lexer": "ipython3",
      "version": "3.12.0"
    },
    "widgets": {
      "application/vnd.jupyter.widget-state+json": {
        "fce8150012494831b690675c6b571266": {
          "model_module": "@jupyter-widgets/controls",
          "model_name": "HBoxModel",
          "model_module_version": "1.5.0",
          "state": {
            "_dom_classes": [],
            "_model_module": "@jupyter-widgets/controls",
            "_model_module_version": "1.5.0",
            "_model_name": "HBoxModel",
            "_view_count": null,
            "_view_module": "@jupyter-widgets/controls",
            "_view_module_version": "1.5.0",
            "_view_name": "HBoxView",
            "box_style": "",
            "children": [
              "IPY_MODEL_84548f8ff6aa4a5e926e98587558181a",
              "IPY_MODEL_7685616cb1b54988a0bd90791f5a0899",
              "IPY_MODEL_bd5ec8de7cf64f57a405345ca0c8e555"
            ],
            "layout": "IPY_MODEL_c6eec95e7a154a4ab681e379884cd5b0"
          }
        },
        "84548f8ff6aa4a5e926e98587558181a": {
          "model_module": "@jupyter-widgets/controls",
          "model_name": "HTMLModel",
          "model_module_version": "1.5.0",
          "state": {
            "_dom_classes": [],
            "_model_module": "@jupyter-widgets/controls",
            "_model_module_version": "1.5.0",
            "_model_name": "HTMLModel",
            "_view_count": null,
            "_view_module": "@jupyter-widgets/controls",
            "_view_module_version": "1.5.0",
            "_view_name": "HTMLView",
            "description": "",
            "description_tooltip": null,
            "layout": "IPY_MODEL_d1f5d36946f34ed78d8d2223affebec2",
            "placeholder": "​",
            "style": "IPY_MODEL_8be7841daaf8495d96f8145b504b96f3",
            "value": "tokenizer_config.json: 100%"
          }
        },
        "7685616cb1b54988a0bd90791f5a0899": {
          "model_module": "@jupyter-widgets/controls",
          "model_name": "FloatProgressModel",
          "model_module_version": "1.5.0",
          "state": {
            "_dom_classes": [],
            "_model_module": "@jupyter-widgets/controls",
            "_model_module_version": "1.5.0",
            "_model_name": "FloatProgressModel",
            "_view_count": null,
            "_view_module": "@jupyter-widgets/controls",
            "_view_module_version": "1.5.0",
            "_view_name": "ProgressView",
            "bar_style": "success",
            "description": "",
            "description_tooltip": null,
            "layout": "IPY_MODEL_a4ab40a8e66b48f1adeb4ede28e15d2c",
            "max": 95,
            "min": 0,
            "orientation": "horizontal",
            "style": "IPY_MODEL_e92849ec703d4fdaa9ef96ffab7c2082",
            "value": 95
          }
        },
        "bd5ec8de7cf64f57a405345ca0c8e555": {
          "model_module": "@jupyter-widgets/controls",
          "model_name": "HTMLModel",
          "model_module_version": "1.5.0",
          "state": {
            "_dom_classes": [],
            "_model_module": "@jupyter-widgets/controls",
            "_model_module_version": "1.5.0",
            "_model_name": "HTMLModel",
            "_view_count": null,
            "_view_module": "@jupyter-widgets/controls",
            "_view_module_version": "1.5.0",
            "_view_name": "HTMLView",
            "description": "",
            "description_tooltip": null,
            "layout": "IPY_MODEL_d565ae61b4304f9b9f60376b627964f0",
            "placeholder": "​",
            "style": "IPY_MODEL_7c821ddec01847aaa6c5d796ac661c13",
            "value": " 95.0/95.0 [00:00&lt;00:00, 2.41kB/s]"
          }
        },
        "c6eec95e7a154a4ab681e379884cd5b0": {
          "model_module": "@jupyter-widgets/base",
          "model_name": "LayoutModel",
          "model_module_version": "1.2.0",
          "state": {
            "_model_module": "@jupyter-widgets/base",
            "_model_module_version": "1.2.0",
            "_model_name": "LayoutModel",
            "_view_count": null,
            "_view_module": "@jupyter-widgets/base",
            "_view_module_version": "1.2.0",
            "_view_name": "LayoutView",
            "align_content": null,
            "align_items": null,
            "align_self": null,
            "border": null,
            "bottom": null,
            "display": null,
            "flex": null,
            "flex_flow": null,
            "grid_area": null,
            "grid_auto_columns": null,
            "grid_auto_flow": null,
            "grid_auto_rows": null,
            "grid_column": null,
            "grid_gap": null,
            "grid_row": null,
            "grid_template_areas": null,
            "grid_template_columns": null,
            "grid_template_rows": null,
            "height": null,
            "justify_content": null,
            "justify_items": null,
            "left": null,
            "margin": null,
            "max_height": null,
            "max_width": null,
            "min_height": null,
            "min_width": null,
            "object_fit": null,
            "object_position": null,
            "order": null,
            "overflow": null,
            "overflow_x": null,
            "overflow_y": null,
            "padding": null,
            "right": null,
            "top": null,
            "visibility": null,
            "width": null
          }
        },
        "d1f5d36946f34ed78d8d2223affebec2": {
          "model_module": "@jupyter-widgets/base",
          "model_name": "LayoutModel",
          "model_module_version": "1.2.0",
          "state": {
            "_model_module": "@jupyter-widgets/base",
            "_model_module_version": "1.2.0",
            "_model_name": "LayoutModel",
            "_view_count": null,
            "_view_module": "@jupyter-widgets/base",
            "_view_module_version": "1.2.0",
            "_view_name": "LayoutView",
            "align_content": null,
            "align_items": null,
            "align_self": null,
            "border": null,
            "bottom": null,
            "display": null,
            "flex": null,
            "flex_flow": null,
            "grid_area": null,
            "grid_auto_columns": null,
            "grid_auto_flow": null,
            "grid_auto_rows": null,
            "grid_column": null,
            "grid_gap": null,
            "grid_row": null,
            "grid_template_areas": null,
            "grid_template_columns": null,
            "grid_template_rows": null,
            "height": null,
            "justify_content": null,
            "justify_items": null,
            "left": null,
            "margin": null,
            "max_height": null,
            "max_width": null,
            "min_height": null,
            "min_width": null,
            "object_fit": null,
            "object_position": null,
            "order": null,
            "overflow": null,
            "overflow_x": null,
            "overflow_y": null,
            "padding": null,
            "right": null,
            "top": null,
            "visibility": null,
            "width": null
          }
        },
        "8be7841daaf8495d96f8145b504b96f3": {
          "model_module": "@jupyter-widgets/controls",
          "model_name": "DescriptionStyleModel",
          "model_module_version": "1.5.0",
          "state": {
            "_model_module": "@jupyter-widgets/controls",
            "_model_module_version": "1.5.0",
            "_model_name": "DescriptionStyleModel",
            "_view_count": null,
            "_view_module": "@jupyter-widgets/base",
            "_view_module_version": "1.2.0",
            "_view_name": "StyleView",
            "description_width": ""
          }
        },
        "a4ab40a8e66b48f1adeb4ede28e15d2c": {
          "model_module": "@jupyter-widgets/base",
          "model_name": "LayoutModel",
          "model_module_version": "1.2.0",
          "state": {
            "_model_module": "@jupyter-widgets/base",
            "_model_module_version": "1.2.0",
            "_model_name": "LayoutModel",
            "_view_count": null,
            "_view_module": "@jupyter-widgets/base",
            "_view_module_version": "1.2.0",
            "_view_name": "LayoutView",
            "align_content": null,
            "align_items": null,
            "align_self": null,
            "border": null,
            "bottom": null,
            "display": null,
            "flex": null,
            "flex_flow": null,
            "grid_area": null,
            "grid_auto_columns": null,
            "grid_auto_flow": null,
            "grid_auto_rows": null,
            "grid_column": null,
            "grid_gap": null,
            "grid_row": null,
            "grid_template_areas": null,
            "grid_template_columns": null,
            "grid_template_rows": null,
            "height": null,
            "justify_content": null,
            "justify_items": null,
            "left": null,
            "margin": null,
            "max_height": null,
            "max_width": null,
            "min_height": null,
            "min_width": null,
            "object_fit": null,
            "object_position": null,
            "order": null,
            "overflow": null,
            "overflow_x": null,
            "overflow_y": null,
            "padding": null,
            "right": null,
            "top": null,
            "visibility": null,
            "width": null
          }
        },
        "e92849ec703d4fdaa9ef96ffab7c2082": {
          "model_module": "@jupyter-widgets/controls",
          "model_name": "ProgressStyleModel",
          "model_module_version": "1.5.0",
          "state": {
            "_model_module": "@jupyter-widgets/controls",
            "_model_module_version": "1.5.0",
            "_model_name": "ProgressStyleModel",
            "_view_count": null,
            "_view_module": "@jupyter-widgets/base",
            "_view_module_version": "1.2.0",
            "_view_name": "StyleView",
            "bar_color": null,
            "description_width": ""
          }
        },
        "d565ae61b4304f9b9f60376b627964f0": {
          "model_module": "@jupyter-widgets/base",
          "model_name": "LayoutModel",
          "model_module_version": "1.2.0",
          "state": {
            "_model_module": "@jupyter-widgets/base",
            "_model_module_version": "1.2.0",
            "_model_name": "LayoutModel",
            "_view_count": null,
            "_view_module": "@jupyter-widgets/base",
            "_view_module_version": "1.2.0",
            "_view_name": "LayoutView",
            "align_content": null,
            "align_items": null,
            "align_self": null,
            "border": null,
            "bottom": null,
            "display": null,
            "flex": null,
            "flex_flow": null,
            "grid_area": null,
            "grid_auto_columns": null,
            "grid_auto_flow": null,
            "grid_auto_rows": null,
            "grid_column": null,
            "grid_gap": null,
            "grid_row": null,
            "grid_template_areas": null,
            "grid_template_columns": null,
            "grid_template_rows": null,
            "height": null,
            "justify_content": null,
            "justify_items": null,
            "left": null,
            "margin": null,
            "max_height": null,
            "max_width": null,
            "min_height": null,
            "min_width": null,
            "object_fit": null,
            "object_position": null,
            "order": null,
            "overflow": null,
            "overflow_x": null,
            "overflow_y": null,
            "padding": null,
            "right": null,
            "top": null,
            "visibility": null,
            "width": null
          }
        },
        "7c821ddec01847aaa6c5d796ac661c13": {
          "model_module": "@jupyter-widgets/controls",
          "model_name": "DescriptionStyleModel",
          "model_module_version": "1.5.0",
          "state": {
            "_model_module": "@jupyter-widgets/controls",
            "_model_module_version": "1.5.0",
            "_model_name": "DescriptionStyleModel",
            "_view_count": null,
            "_view_module": "@jupyter-widgets/base",
            "_view_module_version": "1.2.0",
            "_view_name": "StyleView",
            "description_width": ""
          }
        },
        "4710e61bf62c486e8c4dab63af4d44e3": {
          "model_module": "@jupyter-widgets/controls",
          "model_name": "HBoxModel",
          "model_module_version": "1.5.0",
          "state": {
            "_dom_classes": [],
            "_model_module": "@jupyter-widgets/controls",
            "_model_module_version": "1.5.0",
            "_model_name": "HBoxModel",
            "_view_count": null,
            "_view_module": "@jupyter-widgets/controls",
            "_view_module_version": "1.5.0",
            "_view_name": "HBoxView",
            "box_style": "",
            "children": [
              "IPY_MODEL_c1fe04f566a147ffb1fc81c8f73daef4",
              "IPY_MODEL_6d2932c45d104822ad739ae0ee91e524",
              "IPY_MODEL_a7d691b850794b55aaa8f1931dca1d6c"
            ],
            "layout": "IPY_MODEL_207b2764e9174cc8892b002f26515c97"
          }
        },
        "c1fe04f566a147ffb1fc81c8f73daef4": {
          "model_module": "@jupyter-widgets/controls",
          "model_name": "HTMLModel",
          "model_module_version": "1.5.0",
          "state": {
            "_dom_classes": [],
            "_model_module": "@jupyter-widgets/controls",
            "_model_module_version": "1.5.0",
            "_model_name": "HTMLModel",
            "_view_count": null,
            "_view_module": "@jupyter-widgets/controls",
            "_view_module_version": "1.5.0",
            "_view_name": "HTMLView",
            "description": "",
            "description_tooltip": null,
            "layout": "IPY_MODEL_fe01d976213c458da0126d92ffdef475",
            "placeholder": "​",
            "style": "IPY_MODEL_e659916e781342b0ad533659130dc024",
            "value": "vocab.txt: 100%"
          }
        },
        "6d2932c45d104822ad739ae0ee91e524": {
          "model_module": "@jupyter-widgets/controls",
          "model_name": "FloatProgressModel",
          "model_module_version": "1.5.0",
          "state": {
            "_dom_classes": [],
            "_model_module": "@jupyter-widgets/controls",
            "_model_module_version": "1.5.0",
            "_model_name": "FloatProgressModel",
            "_view_count": null,
            "_view_module": "@jupyter-widgets/controls",
            "_view_module_version": "1.5.0",
            "_view_name": "ProgressView",
            "bar_style": "success",
            "description": "",
            "description_tooltip": null,
            "layout": "IPY_MODEL_2b5db0de69ec4013a5dabfc2bba57ca1",
            "max": 93,
            "min": 0,
            "orientation": "horizontal",
            "style": "IPY_MODEL_372690217072490995dd841123cd75de",
            "value": 93
          }
        },
        "a7d691b850794b55aaa8f1931dca1d6c": {
          "model_module": "@jupyter-widgets/controls",
          "model_name": "HTMLModel",
          "model_module_version": "1.5.0",
          "state": {
            "_dom_classes": [],
            "_model_module": "@jupyter-widgets/controls",
            "_model_module_version": "1.5.0",
            "_model_name": "HTMLModel",
            "_view_count": null,
            "_view_module": "@jupyter-widgets/controls",
            "_view_module_version": "1.5.0",
            "_view_name": "HTMLView",
            "description": "",
            "description_tooltip": null,
            "layout": "IPY_MODEL_5def7c6aeae34d6f9b84b6752a2afff1",
            "placeholder": "​",
            "style": "IPY_MODEL_7d9e07199981438c8508b02422b92706",
            "value": " 93.0/93.0 [00:00&lt;00:00, 2.16kB/s]"
          }
        },
        "207b2764e9174cc8892b002f26515c97": {
          "model_module": "@jupyter-widgets/base",
          "model_name": "LayoutModel",
          "model_module_version": "1.2.0",
          "state": {
            "_model_module": "@jupyter-widgets/base",
            "_model_module_version": "1.2.0",
            "_model_name": "LayoutModel",
            "_view_count": null,
            "_view_module": "@jupyter-widgets/base",
            "_view_module_version": "1.2.0",
            "_view_name": "LayoutView",
            "align_content": null,
            "align_items": null,
            "align_self": null,
            "border": null,
            "bottom": null,
            "display": null,
            "flex": null,
            "flex_flow": null,
            "grid_area": null,
            "grid_auto_columns": null,
            "grid_auto_flow": null,
            "grid_auto_rows": null,
            "grid_column": null,
            "grid_gap": null,
            "grid_row": null,
            "grid_template_areas": null,
            "grid_template_columns": null,
            "grid_template_rows": null,
            "height": null,
            "justify_content": null,
            "justify_items": null,
            "left": null,
            "margin": null,
            "max_height": null,
            "max_width": null,
            "min_height": null,
            "min_width": null,
            "object_fit": null,
            "object_position": null,
            "order": null,
            "overflow": null,
            "overflow_x": null,
            "overflow_y": null,
            "padding": null,
            "right": null,
            "top": null,
            "visibility": null,
            "width": null
          }
        },
        "fe01d976213c458da0126d92ffdef475": {
          "model_module": "@jupyter-widgets/base",
          "model_name": "LayoutModel",
          "model_module_version": "1.2.0",
          "state": {
            "_model_module": "@jupyter-widgets/base",
            "_model_module_version": "1.2.0",
            "_model_name": "LayoutModel",
            "_view_count": null,
            "_view_module": "@jupyter-widgets/base",
            "_view_module_version": "1.2.0",
            "_view_name": "LayoutView",
            "align_content": null,
            "align_items": null,
            "align_self": null,
            "border": null,
            "bottom": null,
            "display": null,
            "flex": null,
            "flex_flow": null,
            "grid_area": null,
            "grid_auto_columns": null,
            "grid_auto_flow": null,
            "grid_auto_rows": null,
            "grid_column": null,
            "grid_gap": null,
            "grid_row": null,
            "grid_template_areas": null,
            "grid_template_columns": null,
            "grid_template_rows": null,
            "height": null,
            "justify_content": null,
            "justify_items": null,
            "left": null,
            "margin": null,
            "max_height": null,
            "max_width": null,
            "min_height": null,
            "min_width": null,
            "object_fit": null,
            "object_position": null,
            "order": null,
            "overflow": null,
            "overflow_x": null,
            "overflow_y": null,
            "padding": null,
            "right": null,
            "top": null,
            "visibility": null,
            "width": null
          }
        },
        "e659916e781342b0ad533659130dc024": {
          "model_module": "@jupyter-widgets/controls",
          "model_name": "DescriptionStyleModel",
          "model_module_version": "1.5.0",
          "state": {
            "_model_module": "@jupyter-widgets/controls",
            "_model_module_version": "1.5.0",
            "_model_name": "DescriptionStyleModel",
            "_view_count": null,
            "_view_module": "@jupyter-widgets/base",
            "_view_module_version": "1.2.0",
            "_view_name": "StyleView",
            "description_width": ""
          }
        },
        "2b5db0de69ec4013a5dabfc2bba57ca1": {
          "model_module": "@jupyter-widgets/base",
          "model_name": "LayoutModel",
          "model_module_version": "1.2.0",
          "state": {
            "_model_module": "@jupyter-widgets/base",
            "_model_module_version": "1.2.0",
            "_model_name": "LayoutModel",
            "_view_count": null,
            "_view_module": "@jupyter-widgets/base",
            "_view_module_version": "1.2.0",
            "_view_name": "LayoutView",
            "align_content": null,
            "align_items": null,
            "align_self": null,
            "border": null,
            "bottom": null,
            "display": null,
            "flex": null,
            "flex_flow": null,
            "grid_area": null,
            "grid_auto_columns": null,
            "grid_auto_flow": null,
            "grid_auto_rows": null,
            "grid_column": null,
            "grid_gap": null,
            "grid_row": null,
            "grid_template_areas": null,
            "grid_template_columns": null,
            "grid_template_rows": null,
            "height": null,
            "justify_content": null,
            "justify_items": null,
            "left": null,
            "margin": null,
            "max_height": null,
            "max_width": null,
            "min_height": null,
            "min_width": null,
            "object_fit": null,
            "object_position": null,
            "order": null,
            "overflow": null,
            "overflow_x": null,
            "overflow_y": null,
            "padding": null,
            "right": null,
            "top": null,
            "visibility": null,
            "width": null
          }
        },
        "372690217072490995dd841123cd75de": {
          "model_module": "@jupyter-widgets/controls",
          "model_name": "ProgressStyleModel",
          "model_module_version": "1.5.0",
          "state": {
            "_model_module": "@jupyter-widgets/controls",
            "_model_module_version": "1.5.0",
            "_model_name": "ProgressStyleModel",
            "_view_count": null,
            "_view_module": "@jupyter-widgets/base",
            "_view_module_version": "1.2.0",
            "_view_name": "StyleView",
            "bar_color": null,
            "description_width": ""
          }
        },
        "5def7c6aeae34d6f9b84b6752a2afff1": {
          "model_module": "@jupyter-widgets/base",
          "model_name": "LayoutModel",
          "model_module_version": "1.2.0",
          "state": {
            "_model_module": "@jupyter-widgets/base",
            "_model_module_version": "1.2.0",
            "_model_name": "LayoutModel",
            "_view_count": null,
            "_view_module": "@jupyter-widgets/base",
            "_view_module_version": "1.2.0",
            "_view_name": "LayoutView",
            "align_content": null,
            "align_items": null,
            "align_self": null,
            "border": null,
            "bottom": null,
            "display": null,
            "flex": null,
            "flex_flow": null,
            "grid_area": null,
            "grid_auto_columns": null,
            "grid_auto_flow": null,
            "grid_auto_rows": null,
            "grid_column": null,
            "grid_gap": null,
            "grid_row": null,
            "grid_template_areas": null,
            "grid_template_columns": null,
            "grid_template_rows": null,
            "height": null,
            "justify_content": null,
            "justify_items": null,
            "left": null,
            "margin": null,
            "max_height": null,
            "max_width": null,
            "min_height": null,
            "min_width": null,
            "object_fit": null,
            "object_position": null,
            "order": null,
            "overflow": null,
            "overflow_x": null,
            "overflow_y": null,
            "padding": null,
            "right": null,
            "top": null,
            "visibility": null,
            "width": null
          }
        },
        "7d9e07199981438c8508b02422b92706": {
          "model_module": "@jupyter-widgets/controls",
          "model_name": "DescriptionStyleModel",
          "model_module_version": "1.5.0",
          "state": {
            "_model_module": "@jupyter-widgets/controls",
            "_model_module_version": "1.5.0",
            "_model_name": "DescriptionStyleModel",
            "_view_count": null,
            "_view_module": "@jupyter-widgets/base",
            "_view_module_version": "1.2.0",
            "_view_name": "StyleView",
            "description_width": ""
          }
        },
        "30926999008a4e33a3071b77a787fd70": {
          "model_module": "@jupyter-widgets/controls",
          "model_name": "HBoxModel",
          "model_module_version": "1.5.0",
          "state": {
            "_dom_classes": [],
            "_model_module": "@jupyter-widgets/controls",
            "_model_module_version": "1.5.0",
            "_model_name": "HBoxModel",
            "_view_count": null,
            "_view_module": "@jupyter-widgets/controls",
            "_view_module_version": "1.5.0",
            "_view_name": "HBoxView",
            "box_style": "",
            "children": [
              "IPY_MODEL_811d4e37d2eb4e869c2233170e3fc46d",
              "IPY_MODEL_6e59000c24a44d349ea21bee67285c8a",
              "IPY_MODEL_660acba0ea1546fb8436b3d8e37579ca"
            ],
            "layout": "IPY_MODEL_1230869f3afb41b4bd57e210b412172b"
          }
        },
        "811d4e37d2eb4e869c2233170e3fc46d": {
          "model_module": "@jupyter-widgets/controls",
          "model_name": "HTMLModel",
          "model_module_version": "1.5.0",
          "state": {
            "_dom_classes": [],
            "_model_module": "@jupyter-widgets/controls",
            "_model_module_version": "1.5.0",
            "_model_name": "HTMLModel",
            "_view_count": null,
            "_view_module": "@jupyter-widgets/controls",
            "_view_module_version": "1.5.0",
            "_view_name": "HTMLView",
            "description": "",
            "description_tooltip": null,
            "layout": "IPY_MODEL_09ea9c7b9d8640edb567442e2f6106b3",
            "placeholder": "​",
            "style": "IPY_MODEL_8264c7905c3b4e2db8011d207c0f0ec4",
            "value": "special_tokens_map.json: 100%"
          }
        },
        "6e59000c24a44d349ea21bee67285c8a": {
          "model_module": "@jupyter-widgets/controls",
          "model_name": "FloatProgressModel",
          "model_module_version": "1.5.0",
          "state": {
            "_dom_classes": [],
            "_model_module": "@jupyter-widgets/controls",
            "_model_module_version": "1.5.0",
            "_model_name": "FloatProgressModel",
            "_view_count": null,
            "_view_module": "@jupyter-widgets/controls",
            "_view_module_version": "1.5.0",
            "_view_name": "ProgressView",
            "bar_style": "success",
            "description": "",
            "description_tooltip": null,
            "layout": "IPY_MODEL_8215024db96d44aeacc6bb15f135862c",
            "max": 125,
            "min": 0,
            "orientation": "horizontal",
            "style": "IPY_MODEL_149e855f2068480d949e25e5c79300ed",
            "value": 125
          }
        },
        "660acba0ea1546fb8436b3d8e37579ca": {
          "model_module": "@jupyter-widgets/controls",
          "model_name": "HTMLModel",
          "model_module_version": "1.5.0",
          "state": {
            "_dom_classes": [],
            "_model_module": "@jupyter-widgets/controls",
            "_model_module_version": "1.5.0",
            "_model_name": "HTMLModel",
            "_view_count": null,
            "_view_module": "@jupyter-widgets/controls",
            "_view_module_version": "1.5.0",
            "_view_name": "HTMLView",
            "description": "",
            "description_tooltip": null,
            "layout": "IPY_MODEL_95d41daea0544261a3585fb3162c8653",
            "placeholder": "​",
            "style": "IPY_MODEL_4e1d4a5a756944eb960e827c32d024ca",
            "value": " 125/125 [00:00&lt;00:00, 3.47kB/s]"
          }
        },
        "1230869f3afb41b4bd57e210b412172b": {
          "model_module": "@jupyter-widgets/base",
          "model_name": "LayoutModel",
          "model_module_version": "1.2.0",
          "state": {
            "_model_module": "@jupyter-widgets/base",
            "_model_module_version": "1.2.0",
            "_model_name": "LayoutModel",
            "_view_count": null,
            "_view_module": "@jupyter-widgets/base",
            "_view_module_version": "1.2.0",
            "_view_name": "LayoutView",
            "align_content": null,
            "align_items": null,
            "align_self": null,
            "border": null,
            "bottom": null,
            "display": null,
            "flex": null,
            "flex_flow": null,
            "grid_area": null,
            "grid_auto_columns": null,
            "grid_auto_flow": null,
            "grid_auto_rows": null,
            "grid_column": null,
            "grid_gap": null,
            "grid_row": null,
            "grid_template_areas": null,
            "grid_template_columns": null,
            "grid_template_rows": null,
            "height": null,
            "justify_content": null,
            "justify_items": null,
            "left": null,
            "margin": null,
            "max_height": null,
            "max_width": null,
            "min_height": null,
            "min_width": null,
            "object_fit": null,
            "object_position": null,
            "order": null,
            "overflow": null,
            "overflow_x": null,
            "overflow_y": null,
            "padding": null,
            "right": null,
            "top": null,
            "visibility": null,
            "width": null
          }
        },
        "09ea9c7b9d8640edb567442e2f6106b3": {
          "model_module": "@jupyter-widgets/base",
          "model_name": "LayoutModel",
          "model_module_version": "1.2.0",
          "state": {
            "_model_module": "@jupyter-widgets/base",
            "_model_module_version": "1.2.0",
            "_model_name": "LayoutModel",
            "_view_count": null,
            "_view_module": "@jupyter-widgets/base",
            "_view_module_version": "1.2.0",
            "_view_name": "LayoutView",
            "align_content": null,
            "align_items": null,
            "align_self": null,
            "border": null,
            "bottom": null,
            "display": null,
            "flex": null,
            "flex_flow": null,
            "grid_area": null,
            "grid_auto_columns": null,
            "grid_auto_flow": null,
            "grid_auto_rows": null,
            "grid_column": null,
            "grid_gap": null,
            "grid_row": null,
            "grid_template_areas": null,
            "grid_template_columns": null,
            "grid_template_rows": null,
            "height": null,
            "justify_content": null,
            "justify_items": null,
            "left": null,
            "margin": null,
            "max_height": null,
            "max_width": null,
            "min_height": null,
            "min_width": null,
            "object_fit": null,
            "object_position": null,
            "order": null,
            "overflow": null,
            "overflow_x": null,
            "overflow_y": null,
            "padding": null,
            "right": null,
            "top": null,
            "visibility": null,
            "width": null
          }
        },
        "8264c7905c3b4e2db8011d207c0f0ec4": {
          "model_module": "@jupyter-widgets/controls",
          "model_name": "DescriptionStyleModel",
          "model_module_version": "1.5.0",
          "state": {
            "_model_module": "@jupyter-widgets/controls",
            "_model_module_version": "1.5.0",
            "_model_name": "DescriptionStyleModel",
            "_view_count": null,
            "_view_module": "@jupyter-widgets/base",
            "_view_module_version": "1.2.0",
            "_view_name": "StyleView",
            "description_width": ""
          }
        },
        "8215024db96d44aeacc6bb15f135862c": {
          "model_module": "@jupyter-widgets/base",
          "model_name": "LayoutModel",
          "model_module_version": "1.2.0",
          "state": {
            "_model_module": "@jupyter-widgets/base",
            "_model_module_version": "1.2.0",
            "_model_name": "LayoutModel",
            "_view_count": null,
            "_view_module": "@jupyter-widgets/base",
            "_view_module_version": "1.2.0",
            "_view_name": "LayoutView",
            "align_content": null,
            "align_items": null,
            "align_self": null,
            "border": null,
            "bottom": null,
            "display": null,
            "flex": null,
            "flex_flow": null,
            "grid_area": null,
            "grid_auto_columns": null,
            "grid_auto_flow": null,
            "grid_auto_rows": null,
            "grid_column": null,
            "grid_gap": null,
            "grid_row": null,
            "grid_template_areas": null,
            "grid_template_columns": null,
            "grid_template_rows": null,
            "height": null,
            "justify_content": null,
            "justify_items": null,
            "left": null,
            "margin": null,
            "max_height": null,
            "max_width": null,
            "min_height": null,
            "min_width": null,
            "object_fit": null,
            "object_position": null,
            "order": null,
            "overflow": null,
            "overflow_x": null,
            "overflow_y": null,
            "padding": null,
            "right": null,
            "top": null,
            "visibility": null,
            "width": null
          }
        },
        "149e855f2068480d949e25e5c79300ed": {
          "model_module": "@jupyter-widgets/controls",
          "model_name": "ProgressStyleModel",
          "model_module_version": "1.5.0",
          "state": {
            "_model_module": "@jupyter-widgets/controls",
            "_model_module_version": "1.5.0",
            "_model_name": "ProgressStyleModel",
            "_view_count": null,
            "_view_module": "@jupyter-widgets/base",
            "_view_module_version": "1.2.0",
            "_view_name": "StyleView",
            "bar_color": null,
            "description_width": ""
          }
        },
        "95d41daea0544261a3585fb3162c8653": {
          "model_module": "@jupyter-widgets/base",
          "model_name": "LayoutModel",
          "model_module_version": "1.2.0",
          "state": {
            "_model_module": "@jupyter-widgets/base",
            "_model_module_version": "1.2.0",
            "_model_name": "LayoutModel",
            "_view_count": null,
            "_view_module": "@jupyter-widgets/base",
            "_view_module_version": "1.2.0",
            "_view_name": "LayoutView",
            "align_content": null,
            "align_items": null,
            "align_self": null,
            "border": null,
            "bottom": null,
            "display": null,
            "flex": null,
            "flex_flow": null,
            "grid_area": null,
            "grid_auto_columns": null,
            "grid_auto_flow": null,
            "grid_auto_rows": null,
            "grid_column": null,
            "grid_gap": null,
            "grid_row": null,
            "grid_template_areas": null,
            "grid_template_columns": null,
            "grid_template_rows": null,
            "height": null,
            "justify_content": null,
            "justify_items": null,
            "left": null,
            "margin": null,
            "max_height": null,
            "max_width": null,
            "min_height": null,
            "min_width": null,
            "object_fit": null,
            "object_position": null,
            "order": null,
            "overflow": null,
            "overflow_x": null,
            "overflow_y": null,
            "padding": null,
            "right": null,
            "top": null,
            "visibility": null,
            "width": null
          }
        },
        "4e1d4a5a756944eb960e827c32d024ca": {
          "model_module": "@jupyter-widgets/controls",
          "model_name": "DescriptionStyleModel",
          "model_module_version": "1.5.0",
          "state": {
            "_model_module": "@jupyter-widgets/controls",
            "_model_module_version": "1.5.0",
            "_model_name": "DescriptionStyleModel",
            "_view_count": null,
            "_view_module": "@jupyter-widgets/base",
            "_view_module_version": "1.2.0",
            "_view_name": "StyleView",
            "description_width": ""
          }
        },
        "a8d31f9f8dea405093fd84b691b781ff": {
          "model_module": "@jupyter-widgets/controls",
          "model_name": "HBoxModel",
          "model_module_version": "1.5.0",
          "state": {
            "_dom_classes": [],
            "_model_module": "@jupyter-widgets/controls",
            "_model_module_version": "1.5.0",
            "_model_name": "HBoxModel",
            "_view_count": null,
            "_view_module": "@jupyter-widgets/controls",
            "_view_module_version": "1.5.0",
            "_view_name": "HBoxView",
            "box_style": "",
            "children": [
              "IPY_MODEL_38d1499b0be242c3b4a78be9ead0f0b4",
              "IPY_MODEL_bf231c519088406181935b7bade942b1",
              "IPY_MODEL_fb6a83dc7c504e688422caa73942b58c"
            ],
            "layout": "IPY_MODEL_eece5be9c01746de9eb14719a430ab2b"
          }
        },
        "38d1499b0be242c3b4a78be9ead0f0b4": {
          "model_module": "@jupyter-widgets/controls",
          "model_name": "HTMLModel",
          "model_module_version": "1.5.0",
          "state": {
            "_dom_classes": [],
            "_model_module": "@jupyter-widgets/controls",
            "_model_module_version": "1.5.0",
            "_model_name": "HTMLModel",
            "_view_count": null,
            "_view_module": "@jupyter-widgets/controls",
            "_view_module_version": "1.5.0",
            "_view_name": "HTMLView",
            "description": "",
            "description_tooltip": null,
            "layout": "IPY_MODEL_a8cd9f2198024a52a77b4e7c13603086",
            "placeholder": "​",
            "style": "IPY_MODEL_3b0dd636db534edd907ee48ace8a9686",
            "value": "config.json: 100%"
          }
        },
        "bf231c519088406181935b7bade942b1": {
          "model_module": "@jupyter-widgets/controls",
          "model_name": "FloatProgressModel",
          "model_module_version": "1.5.0",
          "state": {
            "_dom_classes": [],
            "_model_module": "@jupyter-widgets/controls",
            "_model_module_version": "1.5.0",
            "_model_name": "FloatProgressModel",
            "_view_count": null,
            "_view_module": "@jupyter-widgets/controls",
            "_view_module_version": "1.5.0",
            "_view_name": "ProgressView",
            "bar_style": "success",
            "description": "",
            "description_tooltip": null,
            "layout": "IPY_MODEL_b00dfa694b964e8189a1627b4645f128",
            "max": 775,
            "min": 0,
            "orientation": "horizontal",
            "style": "IPY_MODEL_7104675406b14f8a9de1a4ba2476c56f",
            "value": 775
          }
        },
        "fb6a83dc7c504e688422caa73942b58c": {
          "model_module": "@jupyter-widgets/controls",
          "model_name": "HTMLModel",
          "model_module_version": "1.5.0",
          "state": {
            "_dom_classes": [],
            "_model_module": "@jupyter-widgets/controls",
            "_model_module_version": "1.5.0",
            "_model_name": "HTMLModel",
            "_view_count": null,
            "_view_module": "@jupyter-widgets/controls",
            "_view_module_version": "1.5.0",
            "_view_name": "HTMLView",
            "description": "",
            "description_tooltip": null,
            "layout": "IPY_MODEL_57967d94245b4db3a4fbf5aca93944e3",
            "placeholder": "​",
            "style": "IPY_MODEL_c6c0b3e535164edcb35acd0822f09950",
            "value": " 775/775 [00:00&lt;00:00, 19.9kB/s]"
          }
        },
        "eece5be9c01746de9eb14719a430ab2b": {
          "model_module": "@jupyter-widgets/base",
          "model_name": "LayoutModel",
          "model_module_version": "1.2.0",
          "state": {
            "_model_module": "@jupyter-widgets/base",
            "_model_module_version": "1.2.0",
            "_model_name": "LayoutModel",
            "_view_count": null,
            "_view_module": "@jupyter-widgets/base",
            "_view_module_version": "1.2.0",
            "_view_name": "LayoutView",
            "align_content": null,
            "align_items": null,
            "align_self": null,
            "border": null,
            "bottom": null,
            "display": null,
            "flex": null,
            "flex_flow": null,
            "grid_area": null,
            "grid_auto_columns": null,
            "grid_auto_flow": null,
            "grid_auto_rows": null,
            "grid_column": null,
            "grid_gap": null,
            "grid_row": null,
            "grid_template_areas": null,
            "grid_template_columns": null,
            "grid_template_rows": null,
            "height": null,
            "justify_content": null,
            "justify_items": null,
            "left": null,
            "margin": null,
            "max_height": null,
            "max_width": null,
            "min_height": null,
            "min_width": null,
            "object_fit": null,
            "object_position": null,
            "order": null,
            "overflow": null,
            "overflow_x": null,
            "overflow_y": null,
            "padding": null,
            "right": null,
            "top": null,
            "visibility": null,
            "width": null
          }
        },
        "a8cd9f2198024a52a77b4e7c13603086": {
          "model_module": "@jupyter-widgets/base",
          "model_name": "LayoutModel",
          "model_module_version": "1.2.0",
          "state": {
            "_model_module": "@jupyter-widgets/base",
            "_model_module_version": "1.2.0",
            "_model_name": "LayoutModel",
            "_view_count": null,
            "_view_module": "@jupyter-widgets/base",
            "_view_module_version": "1.2.0",
            "_view_name": "LayoutView",
            "align_content": null,
            "align_items": null,
            "align_self": null,
            "border": null,
            "bottom": null,
            "display": null,
            "flex": null,
            "flex_flow": null,
            "grid_area": null,
            "grid_auto_columns": null,
            "grid_auto_flow": null,
            "grid_auto_rows": null,
            "grid_column": null,
            "grid_gap": null,
            "grid_row": null,
            "grid_template_areas": null,
            "grid_template_columns": null,
            "grid_template_rows": null,
            "height": null,
            "justify_content": null,
            "justify_items": null,
            "left": null,
            "margin": null,
            "max_height": null,
            "max_width": null,
            "min_height": null,
            "min_width": null,
            "object_fit": null,
            "object_position": null,
            "order": null,
            "overflow": null,
            "overflow_x": null,
            "overflow_y": null,
            "padding": null,
            "right": null,
            "top": null,
            "visibility": null,
            "width": null
          }
        },
        "3b0dd636db534edd907ee48ace8a9686": {
          "model_module": "@jupyter-widgets/controls",
          "model_name": "DescriptionStyleModel",
          "model_module_version": "1.5.0",
          "state": {
            "_model_module": "@jupyter-widgets/controls",
            "_model_module_version": "1.5.0",
            "_model_name": "DescriptionStyleModel",
            "_view_count": null,
            "_view_module": "@jupyter-widgets/base",
            "_view_module_version": "1.2.0",
            "_view_name": "StyleView",
            "description_width": ""
          }
        },
        "b00dfa694b964e8189a1627b4645f128": {
          "model_module": "@jupyter-widgets/base",
          "model_name": "LayoutModel",
          "model_module_version": "1.2.0",
          "state": {
            "_model_module": "@jupyter-widgets/base",
            "_model_module_version": "1.2.0",
            "_model_name": "LayoutModel",
            "_view_count": null,
            "_view_module": "@jupyter-widgets/base",
            "_view_module_version": "1.2.0",
            "_view_name": "LayoutView",
            "align_content": null,
            "align_items": null,
            "align_self": null,
            "border": null,
            "bottom": null,
            "display": null,
            "flex": null,
            "flex_flow": null,
            "grid_area": null,
            "grid_auto_columns": null,
            "grid_auto_flow": null,
            "grid_auto_rows": null,
            "grid_column": null,
            "grid_gap": null,
            "grid_row": null,
            "grid_template_areas": null,
            "grid_template_columns": null,
            "grid_template_rows": null,
            "height": null,
            "justify_content": null,
            "justify_items": null,
            "left": null,
            "margin": null,
            "max_height": null,
            "max_width": null,
            "min_height": null,
            "min_width": null,
            "object_fit": null,
            "object_position": null,
            "order": null,
            "overflow": null,
            "overflow_x": null,
            "overflow_y": null,
            "padding": null,
            "right": null,
            "top": null,
            "visibility": null,
            "width": null
          }
        },
        "7104675406b14f8a9de1a4ba2476c56f": {
          "model_module": "@jupyter-widgets/controls",
          "model_name": "ProgressStyleModel",
          "model_module_version": "1.5.0",
          "state": {
            "_model_module": "@jupyter-widgets/controls",
            "_model_module_version": "1.5.0",
            "_model_name": "ProgressStyleModel",
            "_view_count": null,
            "_view_module": "@jupyter-widgets/base",
            "_view_module_version": "1.2.0",
            "_view_name": "StyleView",
            "bar_color": null,
            "description_width": ""
          }
        },
        "57967d94245b4db3a4fbf5aca93944e3": {
          "model_module": "@jupyter-widgets/base",
          "model_name": "LayoutModel",
          "model_module_version": "1.2.0",
          "state": {
            "_model_module": "@jupyter-widgets/base",
            "_model_module_version": "1.2.0",
            "_model_name": "LayoutModel",
            "_view_count": null,
            "_view_module": "@jupyter-widgets/base",
            "_view_module_version": "1.2.0",
            "_view_name": "LayoutView",
            "align_content": null,
            "align_items": null,
            "align_self": null,
            "border": null,
            "bottom": null,
            "display": null,
            "flex": null,
            "flex_flow": null,
            "grid_area": null,
            "grid_auto_columns": null,
            "grid_auto_flow": null,
            "grid_auto_rows": null,
            "grid_column": null,
            "grid_gap": null,
            "grid_row": null,
            "grid_template_areas": null,
            "grid_template_columns": null,
            "grid_template_rows": null,
            "height": null,
            "justify_content": null,
            "justify_items": null,
            "left": null,
            "margin": null,
            "max_height": null,
            "max_width": null,
            "min_height": null,
            "min_width": null,
            "object_fit": null,
            "object_position": null,
            "order": null,
            "overflow": null,
            "overflow_x": null,
            "overflow_y": null,
            "padding": null,
            "right": null,
            "top": null,
            "visibility": null,
            "width": null
          }
        },
        "c6c0b3e535164edcb35acd0822f09950": {
          "model_module": "@jupyter-widgets/controls",
          "model_name": "DescriptionStyleModel",
          "model_module_version": "1.5.0",
          "state": {
            "_model_module": "@jupyter-widgets/controls",
            "_model_module_version": "1.5.0",
            "_model_name": "DescriptionStyleModel",
            "_view_count": null,
            "_view_module": "@jupyter-widgets/base",
            "_view_module_version": "1.2.0",
            "_view_name": "StyleView",
            "description_width": ""
          }
        },
        "42ff06916d114baa9951698356ce058b": {
          "model_module": "@jupyter-widgets/controls",
          "model_name": "HBoxModel",
          "model_module_version": "1.5.0",
          "state": {
            "_dom_classes": [],
            "_model_module": "@jupyter-widgets/controls",
            "_model_module_version": "1.5.0",
            "_model_name": "HBoxModel",
            "_view_count": null,
            "_view_module": "@jupyter-widgets/controls",
            "_view_module_version": "1.5.0",
            "_view_name": "HBoxView",
            "box_style": "",
            "children": [
              "IPY_MODEL_cc02e7b4e26e413dac4e01c60fff372c",
              "IPY_MODEL_31bda04c988f421a9f2b33bbdbc99bdb",
              "IPY_MODEL_53b30bb2cd1346ad840b6132bd7a8092"
            ],
            "layout": "IPY_MODEL_68c42a9d885e414494fb9ea6c290a02d"
          }
        },
        "cc02e7b4e26e413dac4e01c60fff372c": {
          "model_module": "@jupyter-widgets/controls",
          "model_name": "HTMLModel",
          "model_module_version": "1.5.0",
          "state": {
            "_dom_classes": [],
            "_model_module": "@jupyter-widgets/controls",
            "_model_module_version": "1.5.0",
            "_model_name": "HTMLModel",
            "_view_count": null,
            "_view_module": "@jupyter-widgets/controls",
            "_view_module_version": "1.5.0",
            "_view_name": "HTMLView",
            "description": "",
            "description_tooltip": null,
            "layout": "IPY_MODEL_6f6b3adda659459a9f7a3fb1ebc93d07",
            "placeholder": "​",
            "style": "IPY_MODEL_f09540d700324eab87e7171fc8f63322",
            "value": "model.safetensors: 100%"
          }
        },
        "31bda04c988f421a9f2b33bbdbc99bdb": {
          "model_module": "@jupyter-widgets/controls",
          "model_name": "FloatProgressModel",
          "model_module_version": "1.5.0",
          "state": {
            "_dom_classes": [],
            "_model_module": "@jupyter-widgets/controls",
            "_model_module_version": "1.5.0",
            "_model_name": "FloatProgressModel",
            "_view_count": null,
            "_view_module": "@jupyter-widgets/controls",
            "_view_module_version": "1.5.0",
            "_view_name": "ProgressView",
            "bar_style": "success",
            "description": "",
            "description_tooltip": null,
            "layout": "IPY_MODEL_f8ee4deed02341e887f8da4b10212d17",
            "max": 31384292,
            "min": 0,
            "orientation": "horizontal",
            "style": "IPY_MODEL_8f7706178d634dd4bad1e73988b6fdae",
            "value": 31384292
          }
        },
        "53b30bb2cd1346ad840b6132bd7a8092": {
          "model_module": "@jupyter-widgets/controls",
          "model_name": "HTMLModel",
          "model_module_version": "1.5.0",
          "state": {
            "_dom_classes": [],
            "_model_module": "@jupyter-widgets/controls",
            "_model_module_version": "1.5.0",
            "_model_name": "HTMLModel",
            "_view_count": null,
            "_view_module": "@jupyter-widgets/controls",
            "_view_module_version": "1.5.0",
            "_view_name": "HTMLView",
            "description": "",
            "description_tooltip": null,
            "layout": "IPY_MODEL_5e0740ce1c1c4c06b1c6cbd45f28213d",
            "placeholder": "​",
            "style": "IPY_MODEL_2ea2fd119aa04fdf932a9dd32869ad9a",
            "value": " 31.4M/31.4M [00:00&lt;00:00, 44.1MB/s]"
          }
        },
        "68c42a9d885e414494fb9ea6c290a02d": {
          "model_module": "@jupyter-widgets/base",
          "model_name": "LayoutModel",
          "model_module_version": "1.2.0",
          "state": {
            "_model_module": "@jupyter-widgets/base",
            "_model_module_version": "1.2.0",
            "_model_name": "LayoutModel",
            "_view_count": null,
            "_view_module": "@jupyter-widgets/base",
            "_view_module_version": "1.2.0",
            "_view_name": "LayoutView",
            "align_content": null,
            "align_items": null,
            "align_self": null,
            "border": null,
            "bottom": null,
            "display": null,
            "flex": null,
            "flex_flow": null,
            "grid_area": null,
            "grid_auto_columns": null,
            "grid_auto_flow": null,
            "grid_auto_rows": null,
            "grid_column": null,
            "grid_gap": null,
            "grid_row": null,
            "grid_template_areas": null,
            "grid_template_columns": null,
            "grid_template_rows": null,
            "height": null,
            "justify_content": null,
            "justify_items": null,
            "left": null,
            "margin": null,
            "max_height": null,
            "max_width": null,
            "min_height": null,
            "min_width": null,
            "object_fit": null,
            "object_position": null,
            "order": null,
            "overflow": null,
            "overflow_x": null,
            "overflow_y": null,
            "padding": null,
            "right": null,
            "top": null,
            "visibility": null,
            "width": null
          }
        },
        "6f6b3adda659459a9f7a3fb1ebc93d07": {
          "model_module": "@jupyter-widgets/base",
          "model_name": "LayoutModel",
          "model_module_version": "1.2.0",
          "state": {
            "_model_module": "@jupyter-widgets/base",
            "_model_module_version": "1.2.0",
            "_model_name": "LayoutModel",
            "_view_count": null,
            "_view_module": "@jupyter-widgets/base",
            "_view_module_version": "1.2.0",
            "_view_name": "LayoutView",
            "align_content": null,
            "align_items": null,
            "align_self": null,
            "border": null,
            "bottom": null,
            "display": null,
            "flex": null,
            "flex_flow": null,
            "grid_area": null,
            "grid_auto_columns": null,
            "grid_auto_flow": null,
            "grid_auto_rows": null,
            "grid_column": null,
            "grid_gap": null,
            "grid_row": null,
            "grid_template_areas": null,
            "grid_template_columns": null,
            "grid_template_rows": null,
            "height": null,
            "justify_content": null,
            "justify_items": null,
            "left": null,
            "margin": null,
            "max_height": null,
            "max_width": null,
            "min_height": null,
            "min_width": null,
            "object_fit": null,
            "object_position": null,
            "order": null,
            "overflow": null,
            "overflow_x": null,
            "overflow_y": null,
            "padding": null,
            "right": null,
            "top": null,
            "visibility": null,
            "width": null
          }
        },
        "f09540d700324eab87e7171fc8f63322": {
          "model_module": "@jupyter-widgets/controls",
          "model_name": "DescriptionStyleModel",
          "model_module_version": "1.5.0",
          "state": {
            "_model_module": "@jupyter-widgets/controls",
            "_model_module_version": "1.5.0",
            "_model_name": "DescriptionStyleModel",
            "_view_count": null,
            "_view_module": "@jupyter-widgets/base",
            "_view_module_version": "1.2.0",
            "_view_name": "StyleView",
            "description_width": ""
          }
        },
        "f8ee4deed02341e887f8da4b10212d17": {
          "model_module": "@jupyter-widgets/base",
          "model_name": "LayoutModel",
          "model_module_version": "1.2.0",
          "state": {
            "_model_module": "@jupyter-widgets/base",
            "_model_module_version": "1.2.0",
            "_model_name": "LayoutModel",
            "_view_count": null,
            "_view_module": "@jupyter-widgets/base",
            "_view_module_version": "1.2.0",
            "_view_name": "LayoutView",
            "align_content": null,
            "align_items": null,
            "align_self": null,
            "border": null,
            "bottom": null,
            "display": null,
            "flex": null,
            "flex_flow": null,
            "grid_area": null,
            "grid_auto_columns": null,
            "grid_auto_flow": null,
            "grid_auto_rows": null,
            "grid_column": null,
            "grid_gap": null,
            "grid_row": null,
            "grid_template_areas": null,
            "grid_template_columns": null,
            "grid_template_rows": null,
            "height": null,
            "justify_content": null,
            "justify_items": null,
            "left": null,
            "margin": null,
            "max_height": null,
            "max_width": null,
            "min_height": null,
            "min_width": null,
            "object_fit": null,
            "object_position": null,
            "order": null,
            "overflow": null,
            "overflow_x": null,
            "overflow_y": null,
            "padding": null,
            "right": null,
            "top": null,
            "visibility": null,
            "width": null
          }
        },
        "8f7706178d634dd4bad1e73988b6fdae": {
          "model_module": "@jupyter-widgets/controls",
          "model_name": "ProgressStyleModel",
          "model_module_version": "1.5.0",
          "state": {
            "_model_module": "@jupyter-widgets/controls",
            "_model_module_version": "1.5.0",
            "_model_name": "ProgressStyleModel",
            "_view_count": null,
            "_view_module": "@jupyter-widgets/base",
            "_view_module_version": "1.2.0",
            "_view_name": "StyleView",
            "bar_color": null,
            "description_width": ""
          }
        },
        "5e0740ce1c1c4c06b1c6cbd45f28213d": {
          "model_module": "@jupyter-widgets/base",
          "model_name": "LayoutModel",
          "model_module_version": "1.2.0",
          "state": {
            "_model_module": "@jupyter-widgets/base",
            "_model_module_version": "1.2.0",
            "_model_name": "LayoutModel",
            "_view_count": null,
            "_view_module": "@jupyter-widgets/base",
            "_view_module_version": "1.2.0",
            "_view_name": "LayoutView",
            "align_content": null,
            "align_items": null,
            "align_self": null,
            "border": null,
            "bottom": null,
            "display": null,
            "flex": null,
            "flex_flow": null,
            "grid_area": null,
            "grid_auto_columns": null,
            "grid_auto_flow": null,
            "grid_auto_rows": null,
            "grid_column": null,
            "grid_gap": null,
            "grid_row": null,
            "grid_template_areas": null,
            "grid_template_columns": null,
            "grid_template_rows": null,
            "height": null,
            "justify_content": null,
            "justify_items": null,
            "left": null,
            "margin": null,
            "max_height": null,
            "max_width": null,
            "min_height": null,
            "min_width": null,
            "object_fit": null,
            "object_position": null,
            "order": null,
            "overflow": null,
            "overflow_x": null,
            "overflow_y": null,
            "padding": null,
            "right": null,
            "top": null,
            "visibility": null,
            "width": null
          }
        },
        "2ea2fd119aa04fdf932a9dd32869ad9a": {
          "model_module": "@jupyter-widgets/controls",
          "model_name": "DescriptionStyleModel",
          "model_module_version": "1.5.0",
          "state": {
            "_model_module": "@jupyter-widgets/controls",
            "_model_module_version": "1.5.0",
            "_model_name": "DescriptionStyleModel",
            "_view_count": null,
            "_view_module": "@jupyter-widgets/base",
            "_view_module_version": "1.2.0",
            "_view_name": "StyleView",
            "description_width": ""
          }
        }
      }
    }
  },
  "nbformat": 4,
  "nbformat_minor": 0
}